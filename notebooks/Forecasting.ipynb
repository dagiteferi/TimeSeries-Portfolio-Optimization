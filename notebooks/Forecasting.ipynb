{
 "cells": [
  {
   "cell_type": "code",
   "execution_count": 3,
   "metadata": {},
   "outputs": [],
   "source": [
    "import numpy as np\n",
    "import pandas as pd\n",
    "import sys\n",
    "import matplotlib.pyplot as plt\n",
    "import tensorflow as tf\n",
    "from sklearn.preprocessing import MinMaxScaler"
   ]
  },
  {
   "cell_type": "code",
   "execution_count": 2,
   "metadata": {},
   "outputs": [
    {
     "name": "stderr",
     "output_type": "stream",
     "text": [
      "c:\\Users\\HP\\Documents\\Dagii\\week-11\\TimeSeries-Portfolio-Optimization\\week-11\\Lib\\site-packages\\keras\\src\\saving\\saving_lib.py:757: UserWarning: Skipping variable loading for optimizer 'rmsprop', because it has 10 variables whereas the saved optimizer has 18 variables. \n",
      "  saveable.load_own_variables(weights_store.get(inner_path))\n"
     ]
    }
   ],
   "source": [
    "# Load trained LSTM model\n",
    "model = tf.keras.models.load_model(\"../model/optimized_lstm.keras\")"
   ]
  },
  {
   "cell_type": "code",
   "execution_count": 6,
   "metadata": {},
   "outputs": [],
   "source": [
    "# Import from scripts\n",
    "sys.path.append(\"..\")\n",
    "from src.data_loader import load_tsla_data\n"
   ]
  },
  {
   "cell_type": "code",
   "execution_count": null,
   "metadata": {},
   "outputs": [
    {
     "name": "stderr",
     "output_type": "stream",
     "text": [
      "2025-03-03 09:39:39,848 - INFO - Loading TSLA data from CSV...\n",
      "2025-03-03 09:39:39,889 - INFO - Verifying TSLA data integrity...\n",
      "2025-03-03 09:39:39,895 - INFO - TSLA data loaded successfully. Shape: (2505, 9), Missing values: 0\n"
     ]
    }
   ],
   "source": [
    "data = load_tsla_data('../data/TSLA_cleaned.csv')\n",
    "data.reset_index(inplace=True)\n",
    "data[\"Date\"] = pd.to_datetime(data[\"Date\"])\n"
   ]
  },
  {
   "cell_type": "code",
   "execution_count": 19,
   "metadata": {},
   "outputs": [
    {
     "data": {
      "text/html": [
       "<div>\n",
       "<style scoped>\n",
       "    .dataframe tbody tr th:only-of-type {\n",
       "        vertical-align: middle;\n",
       "    }\n",
       "\n",
       "    .dataframe tbody tr th {\n",
       "        vertical-align: top;\n",
       "    }\n",
       "\n",
       "    .dataframe thead th {\n",
       "        text-align: right;\n",
       "    }\n",
       "</style>\n",
       "<table border=\"1\" class=\"dataframe\">\n",
       "  <thead>\n",
       "    <tr style=\"text-align: right;\">\n",
       "      <th></th>\n",
       "      <th>Date</th>\n",
       "      <th>Price</th>\n",
       "      <th>Close</th>\n",
       "      <th>High</th>\n",
       "      <th>Low</th>\n",
       "      <th>Volume</th>\n",
       "      <th>Daily_Return</th>\n",
       "      <th>Rolling_Mean</th>\n",
       "      <th>Rolling_Std</th>\n",
       "      <th>Z_Score</th>\n",
       "    </tr>\n",
       "  </thead>\n",
       "  <tbody>\n",
       "    <tr>\n",
       "      <th>0</th>\n",
       "      <td>2015-02-17</td>\n",
       "      <td>13.623333</td>\n",
       "      <td>13.713333</td>\n",
       "      <td>13.433333</td>\n",
       "      <td>13.713333</td>\n",
       "      <td>59694000</td>\n",
       "      <td>-0.140787</td>\n",
       "      <td>13.940933</td>\n",
       "      <td>0.583636</td>\n",
       "      <td>-0.895868</td>\n",
       "    </tr>\n",
       "    <tr>\n",
       "      <th>1</th>\n",
       "      <td>2015-02-18</td>\n",
       "      <td>13.630667</td>\n",
       "      <td>13.744667</td>\n",
       "      <td>13.506667</td>\n",
       "      <td>13.611333</td>\n",
       "      <td>40704000</td>\n",
       "      <td>0.228492</td>\n",
       "      <td>13.917978</td>\n",
       "      <td>0.577107</td>\n",
       "      <td>-0.895605</td>\n",
       "    </tr>\n",
       "    <tr>\n",
       "      <th>2</th>\n",
       "      <td>2015-02-19</td>\n",
       "      <td>14.114000</td>\n",
       "      <td>14.162667</td>\n",
       "      <td>13.583333</td>\n",
       "      <td>13.666667</td>\n",
       "      <td>77311500</td>\n",
       "      <td>3.041181</td>\n",
       "      <td>13.914067</td>\n",
       "      <td>0.574963</td>\n",
       "      <td>-0.892099</td>\n",
       "    </tr>\n",
       "    <tr>\n",
       "      <th>3</th>\n",
       "      <td>2015-02-20</td>\n",
       "      <td>14.474000</td>\n",
       "      <td>14.506667</td>\n",
       "      <td>13.987333</td>\n",
       "      <td>14.052000</td>\n",
       "      <td>89731500</td>\n",
       "      <td>2.428920</td>\n",
       "      <td>13.920333</td>\n",
       "      <td>0.580523</td>\n",
       "      <td>-0.889213</td>\n",
       "    </tr>\n",
       "    <tr>\n",
       "      <th>4</th>\n",
       "      <td>2015-02-23</td>\n",
       "      <td>13.822667</td>\n",
       "      <td>14.546667</td>\n",
       "      <td>13.755333</td>\n",
       "      <td>14.377333</td>\n",
       "      <td>127497000</td>\n",
       "      <td>0.275735</td>\n",
       "      <td>13.930111</td>\n",
       "      <td>0.588737</td>\n",
       "      <td>-0.888878</td>\n",
       "    </tr>\n",
       "  </tbody>\n",
       "</table>\n",
       "</div>"
      ],
      "text/plain": [
       "        Date      Price      Close       High        Low     Volume  \\\n",
       "0 2015-02-17  13.623333  13.713333  13.433333  13.713333   59694000   \n",
       "1 2015-02-18  13.630667  13.744667  13.506667  13.611333   40704000   \n",
       "2 2015-02-19  14.114000  14.162667  13.583333  13.666667   77311500   \n",
       "3 2015-02-20  14.474000  14.506667  13.987333  14.052000   89731500   \n",
       "4 2015-02-23  13.822667  14.546667  13.755333  14.377333  127497000   \n",
       "\n",
       "   Daily_Return  Rolling_Mean  Rolling_Std   Z_Score  \n",
       "0     -0.140787     13.940933     0.583636 -0.895868  \n",
       "1      0.228492     13.917978     0.577107 -0.895605  \n",
       "2      3.041181     13.914067     0.574963 -0.892099  \n",
       "3      2.428920     13.920333     0.580523 -0.889213  \n",
       "4      0.275735     13.930111     0.588737 -0.888878  "
      ]
     },
     "execution_count": 19,
     "metadata": {},
     "output_type": "execute_result"
    }
   ],
   "source": [
    "data.head()"
   ]
  }
 ],
 "metadata": {
  "kernelspec": {
   "display_name": "week-11",
   "language": "python",
   "name": "python3"
  },
  "language_info": {
   "codemirror_mode": {
    "name": "ipython",
    "version": 3
   },
   "file_extension": ".py",
   "mimetype": "text/x-python",
   "name": "python",
   "nbconvert_exporter": "python",
   "pygments_lexer": "ipython3",
   "version": "3.11.9"
  }
 },
 "nbformat": 4,
 "nbformat_minor": 2
}
