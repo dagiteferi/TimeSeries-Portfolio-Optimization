{
  "cells": [
    {
      "cell_type": "code",
      "execution_count": 1,
      "metadata": {
        "id": "VKZtdBlNY-32"
      },
      "outputs": [],
      "source": [
        "# Import necessary libraries\n",
        "import pandas as pd\n",
        "import numpy as np\n",
        "import matplotlib.pyplot as plt\n",
        "import sys\n",
        "import logging\n",
        "import os\n",
        "import warnings\n",
        "warnings.filterwarnings(\"ignore\", category=FutureWarning)"
      ]
    },
    {
      "cell_type": "code",
      "execution_count": 2,
      "metadata": {
        "id": "cgRBCRW5Y-34"
      },
      "outputs": [],
      "source": [
        "# Import from scripts\n",
        "sys.path.append(\"..\")\n",
        "from src.data_loader import load_tsla_data\n",
        "from scripts.lstm import preprocess_data, build_lstm_model,train_lstm, forecast_lstm,evaluate_lstm, plot_lstm_results\n",
        "\n",
        ""
      ]
    },
    {
      "cell_type": "code",
      "execution_count": 3,
      "metadata": {
        "id": "5VjIQLspY-35"
      },
      "outputs": [],
      "source": [
        "data = load_tsla_data('data/TSLA_cleaned.csv')\n",
        "\n"
      ]
    },
    {
      "cell_type": "code",
      "source": [
        "print(\"Initial NaNs:\", data.isna().sum())"
      ],
      "metadata": {
        "colab": {
          "base_uri": "https://localhost:8080/"
        },
        "id": "IX2jv36sh0et",
        "outputId": "a78d259c-cd6a-4dc8-f14b-f910ab42fb35"
      },
      "execution_count": 4,
      "outputs": [
        {
          "output_type": "stream",
          "name": "stdout",
          "text": [
            "Initial NaNs: Price           0\n",
            "Close           0\n",
            "High            0\n",
            "Low             0\n",
            "Volume          0\n",
            "Daily_Return    0\n",
            "Rolling_Mean    0\n",
            "Rolling_Std     0\n",
            "Z_Score         0\n",
            "dtype: int64\n"
          ]
        }
      ]
    },
    {
      "cell_type": "code",
      "execution_count": 5,
      "metadata": {
        "colab": {
          "base_uri": "https://localhost:8080/",
          "height": 344
        },
        "id": "M2xWbYgIY-35",
        "outputId": "e3e86d83-92f0-4bdb-a31c-bb0bfb660bf4"
      },
      "outputs": [
        {
          "output_type": "execute_result",
          "data": {
            "text/plain": [
              "                Price      Close       High        Low     Volume  \\\n",
              "Date                                                                \n",
              "2015-02-17  13.623333  13.713333  13.433333  13.713333   59694000   \n",
              "2015-02-18  13.630667  13.744667  13.506667  13.611333   40704000   \n",
              "2015-02-19  14.114000  14.162667  13.583333  13.666667   77311500   \n",
              "2015-02-20  14.474000  14.506667  13.987333  14.052000   89731500   \n",
              "2015-02-23  13.822667  14.546667  13.755333  14.377333  127497000   \n",
              "\n",
              "            Daily_Return  Rolling_Mean  Rolling_Std   Z_Score  \n",
              "Date                                                           \n",
              "2015-02-17     -0.140787     13.940933     0.583636 -0.895868  \n",
              "2015-02-18      0.228492     13.917978     0.577107 -0.895605  \n",
              "2015-02-19      3.041181     13.914067     0.574963 -0.892099  \n",
              "2015-02-20      2.428920     13.920333     0.580523 -0.889213  \n",
              "2015-02-23      0.275735     13.930111     0.588737 -0.888878  "
            ],
            "text/html": [
              "\n",
              "  <div id=\"df-c567c941-5f37-4274-bdf5-2f7418cc9eb9\" class=\"colab-df-container\">\n",
              "    <div>\n",
              "<style scoped>\n",
              "    .dataframe tbody tr th:only-of-type {\n",
              "        vertical-align: middle;\n",
              "    }\n",
              "\n",
              "    .dataframe tbody tr th {\n",
              "        vertical-align: top;\n",
              "    }\n",
              "\n",
              "    .dataframe thead th {\n",
              "        text-align: right;\n",
              "    }\n",
              "</style>\n",
              "<table border=\"1\" class=\"dataframe\">\n",
              "  <thead>\n",
              "    <tr style=\"text-align: right;\">\n",
              "      <th></th>\n",
              "      <th>Price</th>\n",
              "      <th>Close</th>\n",
              "      <th>High</th>\n",
              "      <th>Low</th>\n",
              "      <th>Volume</th>\n",
              "      <th>Daily_Return</th>\n",
              "      <th>Rolling_Mean</th>\n",
              "      <th>Rolling_Std</th>\n",
              "      <th>Z_Score</th>\n",
              "    </tr>\n",
              "    <tr>\n",
              "      <th>Date</th>\n",
              "      <th></th>\n",
              "      <th></th>\n",
              "      <th></th>\n",
              "      <th></th>\n",
              "      <th></th>\n",
              "      <th></th>\n",
              "      <th></th>\n",
              "      <th></th>\n",
              "      <th></th>\n",
              "    </tr>\n",
              "  </thead>\n",
              "  <tbody>\n",
              "    <tr>\n",
              "      <th>2015-02-17</th>\n",
              "      <td>13.623333</td>\n",
              "      <td>13.713333</td>\n",
              "      <td>13.433333</td>\n",
              "      <td>13.713333</td>\n",
              "      <td>59694000</td>\n",
              "      <td>-0.140787</td>\n",
              "      <td>13.940933</td>\n",
              "      <td>0.583636</td>\n",
              "      <td>-0.895868</td>\n",
              "    </tr>\n",
              "    <tr>\n",
              "      <th>2015-02-18</th>\n",
              "      <td>13.630667</td>\n",
              "      <td>13.744667</td>\n",
              "      <td>13.506667</td>\n",
              "      <td>13.611333</td>\n",
              "      <td>40704000</td>\n",
              "      <td>0.228492</td>\n",
              "      <td>13.917978</td>\n",
              "      <td>0.577107</td>\n",
              "      <td>-0.895605</td>\n",
              "    </tr>\n",
              "    <tr>\n",
              "      <th>2015-02-19</th>\n",
              "      <td>14.114000</td>\n",
              "      <td>14.162667</td>\n",
              "      <td>13.583333</td>\n",
              "      <td>13.666667</td>\n",
              "      <td>77311500</td>\n",
              "      <td>3.041181</td>\n",
              "      <td>13.914067</td>\n",
              "      <td>0.574963</td>\n",
              "      <td>-0.892099</td>\n",
              "    </tr>\n",
              "    <tr>\n",
              "      <th>2015-02-20</th>\n",
              "      <td>14.474000</td>\n",
              "      <td>14.506667</td>\n",
              "      <td>13.987333</td>\n",
              "      <td>14.052000</td>\n",
              "      <td>89731500</td>\n",
              "      <td>2.428920</td>\n",
              "      <td>13.920333</td>\n",
              "      <td>0.580523</td>\n",
              "      <td>-0.889213</td>\n",
              "    </tr>\n",
              "    <tr>\n",
              "      <th>2015-02-23</th>\n",
              "      <td>13.822667</td>\n",
              "      <td>14.546667</td>\n",
              "      <td>13.755333</td>\n",
              "      <td>14.377333</td>\n",
              "      <td>127497000</td>\n",
              "      <td>0.275735</td>\n",
              "      <td>13.930111</td>\n",
              "      <td>0.588737</td>\n",
              "      <td>-0.888878</td>\n",
              "    </tr>\n",
              "  </tbody>\n",
              "</table>\n",
              "</div>\n",
              "    <div class=\"colab-df-buttons\">\n",
              "\n",
              "  <div class=\"colab-df-container\">\n",
              "    <button class=\"colab-df-convert\" onclick=\"convertToInteractive('df-c567c941-5f37-4274-bdf5-2f7418cc9eb9')\"\n",
              "            title=\"Convert this dataframe to an interactive table.\"\n",
              "            style=\"display:none;\">\n",
              "\n",
              "  <svg xmlns=\"http://www.w3.org/2000/svg\" height=\"24px\" viewBox=\"0 -960 960 960\">\n",
              "    <path d=\"M120-120v-720h720v720H120Zm60-500h600v-160H180v160Zm220 220h160v-160H400v160Zm0 220h160v-160H400v160ZM180-400h160v-160H180v160Zm440 0h160v-160H620v160ZM180-180h160v-160H180v160Zm440 0h160v-160H620v160Z\"/>\n",
              "  </svg>\n",
              "    </button>\n",
              "\n",
              "  <style>\n",
              "    .colab-df-container {\n",
              "      display:flex;\n",
              "      gap: 12px;\n",
              "    }\n",
              "\n",
              "    .colab-df-convert {\n",
              "      background-color: #E8F0FE;\n",
              "      border: none;\n",
              "      border-radius: 50%;\n",
              "      cursor: pointer;\n",
              "      display: none;\n",
              "      fill: #1967D2;\n",
              "      height: 32px;\n",
              "      padding: 0 0 0 0;\n",
              "      width: 32px;\n",
              "    }\n",
              "\n",
              "    .colab-df-convert:hover {\n",
              "      background-color: #E2EBFA;\n",
              "      box-shadow: 0px 1px 2px rgba(60, 64, 67, 0.3), 0px 1px 3px 1px rgba(60, 64, 67, 0.15);\n",
              "      fill: #174EA6;\n",
              "    }\n",
              "\n",
              "    .colab-df-buttons div {\n",
              "      margin-bottom: 4px;\n",
              "    }\n",
              "\n",
              "    [theme=dark] .colab-df-convert {\n",
              "      background-color: #3B4455;\n",
              "      fill: #D2E3FC;\n",
              "    }\n",
              "\n",
              "    [theme=dark] .colab-df-convert:hover {\n",
              "      background-color: #434B5C;\n",
              "      box-shadow: 0px 1px 3px 1px rgba(0, 0, 0, 0.15);\n",
              "      filter: drop-shadow(0px 1px 2px rgba(0, 0, 0, 0.3));\n",
              "      fill: #FFFFFF;\n",
              "    }\n",
              "  </style>\n",
              "\n",
              "    <script>\n",
              "      const buttonEl =\n",
              "        document.querySelector('#df-c567c941-5f37-4274-bdf5-2f7418cc9eb9 button.colab-df-convert');\n",
              "      buttonEl.style.display =\n",
              "        google.colab.kernel.accessAllowed ? 'block' : 'none';\n",
              "\n",
              "      async function convertToInteractive(key) {\n",
              "        const element = document.querySelector('#df-c567c941-5f37-4274-bdf5-2f7418cc9eb9');\n",
              "        const dataTable =\n",
              "          await google.colab.kernel.invokeFunction('convertToInteractive',\n",
              "                                                    [key], {});\n",
              "        if (!dataTable) return;\n",
              "\n",
              "        const docLinkHtml = 'Like what you see? Visit the ' +\n",
              "          '<a target=\"_blank\" href=https://colab.research.google.com/notebooks/data_table.ipynb>data table notebook</a>'\n",
              "          + ' to learn more about interactive tables.';\n",
              "        element.innerHTML = '';\n",
              "        dataTable['output_type'] = 'display_data';\n",
              "        await google.colab.output.renderOutput(dataTable, element);\n",
              "        const docLink = document.createElement('div');\n",
              "        docLink.innerHTML = docLinkHtml;\n",
              "        element.appendChild(docLink);\n",
              "      }\n",
              "    </script>\n",
              "  </div>\n",
              "\n",
              "\n",
              "<div id=\"df-f2f4f67b-ad61-4ca5-92fa-dd4892fdb25e\">\n",
              "  <button class=\"colab-df-quickchart\" onclick=\"quickchart('df-f2f4f67b-ad61-4ca5-92fa-dd4892fdb25e')\"\n",
              "            title=\"Suggest charts\"\n",
              "            style=\"display:none;\">\n",
              "\n",
              "<svg xmlns=\"http://www.w3.org/2000/svg\" height=\"24px\"viewBox=\"0 0 24 24\"\n",
              "     width=\"24px\">\n",
              "    <g>\n",
              "        <path d=\"M19 3H5c-1.1 0-2 .9-2 2v14c0 1.1.9 2 2 2h14c1.1 0 2-.9 2-2V5c0-1.1-.9-2-2-2zM9 17H7v-7h2v7zm4 0h-2V7h2v10zm4 0h-2v-4h2v4z\"/>\n",
              "    </g>\n",
              "</svg>\n",
              "  </button>\n",
              "\n",
              "<style>\n",
              "  .colab-df-quickchart {\n",
              "      --bg-color: #E8F0FE;\n",
              "      --fill-color: #1967D2;\n",
              "      --hover-bg-color: #E2EBFA;\n",
              "      --hover-fill-color: #174EA6;\n",
              "      --disabled-fill-color: #AAA;\n",
              "      --disabled-bg-color: #DDD;\n",
              "  }\n",
              "\n",
              "  [theme=dark] .colab-df-quickchart {\n",
              "      --bg-color: #3B4455;\n",
              "      --fill-color: #D2E3FC;\n",
              "      --hover-bg-color: #434B5C;\n",
              "      --hover-fill-color: #FFFFFF;\n",
              "      --disabled-bg-color: #3B4455;\n",
              "      --disabled-fill-color: #666;\n",
              "  }\n",
              "\n",
              "  .colab-df-quickchart {\n",
              "    background-color: var(--bg-color);\n",
              "    border: none;\n",
              "    border-radius: 50%;\n",
              "    cursor: pointer;\n",
              "    display: none;\n",
              "    fill: var(--fill-color);\n",
              "    height: 32px;\n",
              "    padding: 0;\n",
              "    width: 32px;\n",
              "  }\n",
              "\n",
              "  .colab-df-quickchart:hover {\n",
              "    background-color: var(--hover-bg-color);\n",
              "    box-shadow: 0 1px 2px rgba(60, 64, 67, 0.3), 0 1px 3px 1px rgba(60, 64, 67, 0.15);\n",
              "    fill: var(--button-hover-fill-color);\n",
              "  }\n",
              "\n",
              "  .colab-df-quickchart-complete:disabled,\n",
              "  .colab-df-quickchart-complete:disabled:hover {\n",
              "    background-color: var(--disabled-bg-color);\n",
              "    fill: var(--disabled-fill-color);\n",
              "    box-shadow: none;\n",
              "  }\n",
              "\n",
              "  .colab-df-spinner {\n",
              "    border: 2px solid var(--fill-color);\n",
              "    border-color: transparent;\n",
              "    border-bottom-color: var(--fill-color);\n",
              "    animation:\n",
              "      spin 1s steps(1) infinite;\n",
              "  }\n",
              "\n",
              "  @keyframes spin {\n",
              "    0% {\n",
              "      border-color: transparent;\n",
              "      border-bottom-color: var(--fill-color);\n",
              "      border-left-color: var(--fill-color);\n",
              "    }\n",
              "    20% {\n",
              "      border-color: transparent;\n",
              "      border-left-color: var(--fill-color);\n",
              "      border-top-color: var(--fill-color);\n",
              "    }\n",
              "    30% {\n",
              "      border-color: transparent;\n",
              "      border-left-color: var(--fill-color);\n",
              "      border-top-color: var(--fill-color);\n",
              "      border-right-color: var(--fill-color);\n",
              "    }\n",
              "    40% {\n",
              "      border-color: transparent;\n",
              "      border-right-color: var(--fill-color);\n",
              "      border-top-color: var(--fill-color);\n",
              "    }\n",
              "    60% {\n",
              "      border-color: transparent;\n",
              "      border-right-color: var(--fill-color);\n",
              "    }\n",
              "    80% {\n",
              "      border-color: transparent;\n",
              "      border-right-color: var(--fill-color);\n",
              "      border-bottom-color: var(--fill-color);\n",
              "    }\n",
              "    90% {\n",
              "      border-color: transparent;\n",
              "      border-bottom-color: var(--fill-color);\n",
              "    }\n",
              "  }\n",
              "</style>\n",
              "\n",
              "  <script>\n",
              "    async function quickchart(key) {\n",
              "      const quickchartButtonEl =\n",
              "        document.querySelector('#' + key + ' button');\n",
              "      quickchartButtonEl.disabled = true;  // To prevent multiple clicks.\n",
              "      quickchartButtonEl.classList.add('colab-df-spinner');\n",
              "      try {\n",
              "        const charts = await google.colab.kernel.invokeFunction(\n",
              "            'suggestCharts', [key], {});\n",
              "      } catch (error) {\n",
              "        console.error('Error during call to suggestCharts:', error);\n",
              "      }\n",
              "      quickchartButtonEl.classList.remove('colab-df-spinner');\n",
              "      quickchartButtonEl.classList.add('colab-df-quickchart-complete');\n",
              "    }\n",
              "    (() => {\n",
              "      let quickchartButtonEl =\n",
              "        document.querySelector('#df-f2f4f67b-ad61-4ca5-92fa-dd4892fdb25e button');\n",
              "      quickchartButtonEl.style.display =\n",
              "        google.colab.kernel.accessAllowed ? 'block' : 'none';\n",
              "    })();\n",
              "  </script>\n",
              "</div>\n",
              "\n",
              "    </div>\n",
              "  </div>\n"
            ],
            "application/vnd.google.colaboratory.intrinsic+json": {
              "type": "dataframe",
              "variable_name": "data",
              "summary": "{\n  \"name\": \"data\",\n  \"rows\": 2505,\n  \"fields\": [\n    {\n      \"column\": \"Date\",\n      \"properties\": {\n        \"dtype\": \"date\",\n        \"min\": \"2015-02-17 00:00:00\",\n        \"max\": \"2025-01-30 00:00:00\",\n        \"num_unique_values\": 2505,\n        \"samples\": [\n          \"2022-06-01 00:00:00\",\n          \"2016-02-17 00:00:00\",\n          \"2023-10-04 00:00:00\"\n        ],\n        \"semantic_type\": \"\",\n        \"description\": \"\"\n      }\n    },\n    {\n      \"column\": \"Price\",\n      \"properties\": {\n        \"dtype\": \"number\",\n        \"std\": 116.64269536334,\n        \"min\": 9.57800006866455,\n        \"max\": 479.8599853515625,\n        \"num_unique_values\": 2453,\n        \"samples\": [\n          267.4800109863281,\n          21.68000030517578,\n          22.202667236328125\n        ],\n        \"semantic_type\": \"\",\n        \"description\": \"\"\n      }\n    },\n    {\n      \"column\": \"Close\",\n      \"properties\": {\n        \"dtype\": \"number\",\n        \"std\": 119.37359770348122,\n        \"min\": 10.33133316040039,\n        \"max\": 488.5400085449219,\n        \"num_unique_values\": 2391,\n        \"samples\": [\n          15.498000144958496,\n          15.618666648864746,\n          324.67999267578125\n        ],\n        \"semantic_type\": \"\",\n        \"description\": \"\"\n      }\n    },\n    {\n      \"column\": \"High\",\n      \"properties\": {\n        \"dtype\": \"number\",\n        \"std\": 113.82977149897887,\n        \"min\": 9.403332710266112,\n        \"max\": 457.510009765625,\n        \"num_unique_values\": 2415,\n        \"samples\": [\n          13.44333267211914,\n          15.272000312805176,\n          338.6866760253906\n        ],\n        \"semantic_type\": \"\",\n        \"description\": \"\"\n      }\n    },\n    {\n      \"column\": \"Low\",\n      \"properties\": {\n        \"dtype\": \"number\",\n        \"std\": 116.74611378954053,\n        \"min\": 9.48799991607666,\n        \"max\": 475.8999938964844,\n        \"num_unique_values\": 2393,\n        \"samples\": [\n          14.325332641601562,\n          15.452667236328123,\n          201.2933349609375\n        ],\n        \"semantic_type\": \"\",\n        \"description\": \"\"\n      }\n    },\n    {\n      \"column\": \"Volume\",\n      \"properties\": {\n        \"dtype\": \"number\",\n        \"std\": 74067042,\n        \"min\": 10620000,\n        \"max\": 914082000,\n        \"num_unique_values\": 2495,\n        \"samples\": [\n          104423300,\n          80890200,\n          124423500\n        ],\n        \"semantic_type\": \"\",\n        \"description\": \"\"\n      }\n    },\n    {\n      \"column\": \"Daily_Return\",\n      \"properties\": {\n        \"dtype\": \"number\",\n        \"std\": 3.27529341040802,\n        \"min\": -18.549301166739102,\n        \"max\": 23.259221043596835,\n        \"num_unique_values\": 2502,\n        \"samples\": [\n          3.1622756378613115,\n          -1.546087509247418,\n          0.2907893614726875\n        ],\n        \"semantic_type\": \"\",\n        \"description\": \"\"\n      }\n    },\n    {\n      \"column\": \"Rolling_Mean\",\n      \"properties\": {\n        \"dtype\": \"number\",\n        \"std\": 116.50504339338292,\n        \"min\": 12.17282215754191,\n        \"max\": 432.4949991861979,\n        \"num_unique_values\": 2505,\n        \"samples\": [\n          281.6907801310221,\n          12.870911153157552,\n          258.2830006917318\n        ],\n        \"semantic_type\": \"\",\n        \"description\": \"\"\n      }\n    },\n    {\n      \"column\": \"Rolling_Std\",\n      \"properties\": {\n        \"dtype\": \"number\",\n        \"std\": 11.645177473392753,\n        \"min\": 0.2147070068675076,\n        \"max\": 57.92640016629058,\n        \"num_unique_values\": 2505,\n        \"samples\": [\n          40.15490424150168,\n          1.467698400614566,\n          12.040673352435034\n        ],\n        \"semantic_type\": \"\",\n        \"description\": \"\"\n      }\n    },\n    {\n      \"column\": \"Z_Score\",\n      \"properties\": {\n        \"dtype\": \"number\",\n        \"std\": 1.0013088009613769,\n        \"min\": -0.9242359831509044,\n        \"max\": 3.086990658003096,\n        \"num_unique_values\": 2391,\n        \"samples\": [\n          -0.8808978478948558,\n          -0.8798856941634864,\n          1.7125286398356\n        ],\n        \"semantic_type\": \"\",\n        \"description\": \"\"\n      }\n    }\n  ]\n}"
            }
          },
          "metadata": {},
          "execution_count": 5
        }
      ],
      "source": [
        "\n",
        "data.head()"
      ]
    },
    {
      "cell_type": "code",
      "execution_count": 6,
      "metadata": {
        "id": "ukoaTHbQY-36"
      },
      "outputs": [],
      "source": [
        "# Preprocess\n",
        "X_train, y_train, X_test, y_test, scaler = preprocess_data(data, look_back=60)\n"
      ]
    },
    {
      "cell_type": "code",
      "execution_count": 7,
      "metadata": {
        "colab": {
          "base_uri": "https://localhost:8080/"
        },
        "id": "2h2NQpxxY-36",
        "outputId": "f9752d55-da0e-499e-db2a-2dd37ca7f0e0"
      },
      "outputs": [
        {
          "output_type": "stream",
          "name": "stderr",
          "text": [
            "/usr/local/lib/python3.11/dist-packages/keras/src/layers/rnn/rnn.py:200: UserWarning: Do not pass an `input_shape`/`input_dim` argument to a layer. When using Sequential models, prefer using an `Input(shape)` object as the first layer in the model instead.\n",
            "  super().__init__(**kwargs)\n"
          ]
        }
      ],
      "source": [
        "# Build model\n",
        "model = build_lstm_model(input_shape=(X_train.shape[1], 1))"
      ]
    },
    {
      "cell_type": "code",
      "execution_count": 8,
      "metadata": {
        "colab": {
          "base_uri": "https://localhost:8080/"
        },
        "id": "GQnFS3lGY-37",
        "outputId": "8678deff-fbbf-4107-84d5-55ca730dc784"
      },
      "outputs": [
        {
          "output_type": "stream",
          "name": "stdout",
          "text": [
            "Epoch 1/100\n",
            "\u001b[1m51/51\u001b[0m \u001b[32m━━━━━━━━━━━━━━━━━━━━\u001b[0m\u001b[37m\u001b[0m \u001b[1m9s\u001b[0m 89ms/step - loss: 0.0245 - val_loss: 0.0270 - learning_rate: 0.0010\n",
            "Epoch 2/100\n",
            "\u001b[1m51/51\u001b[0m \u001b[32m━━━━━━━━━━━━━━━━━━━━\u001b[0m\u001b[37m\u001b[0m \u001b[1m3s\u001b[0m 57ms/step - loss: 0.0237 - val_loss: 0.0271 - learning_rate: 0.0010\n",
            "Epoch 3/100\n",
            "\u001b[1m51/51\u001b[0m \u001b[32m━━━━━━━━━━━━━━━━━━━━\u001b[0m\u001b[37m\u001b[0m \u001b[1m5s\u001b[0m 56ms/step - loss: 0.0224 - val_loss: 0.0270 - learning_rate: 0.0010\n",
            "Epoch 4/100\n",
            "\u001b[1m51/51\u001b[0m \u001b[32m━━━━━━━━━━━━━━━━━━━━\u001b[0m\u001b[37m\u001b[0m \u001b[1m6s\u001b[0m 71ms/step - loss: 0.0215 - val_loss: 0.0270 - learning_rate: 0.0010\n",
            "Epoch 5/100\n",
            "\u001b[1m51/51\u001b[0m \u001b[32m━━━━━━━━━━━━━━━━━━━━\u001b[0m\u001b[37m\u001b[0m \u001b[1m4s\u001b[0m 57ms/step - loss: 0.0210 - val_loss: 0.0269 - learning_rate: 0.0010\n",
            "Epoch 6/100\n",
            "\u001b[1m51/51\u001b[0m \u001b[32m━━━━━━━━━━━━━━━━━━━━\u001b[0m\u001b[37m\u001b[0m \u001b[1m6s\u001b[0m 67ms/step - loss: 0.0233 - val_loss: 0.0269 - learning_rate: 0.0010\n",
            "Epoch 7/100\n",
            "\u001b[1m51/51\u001b[0m \u001b[32m━━━━━━━━━━━━━━━━━━━━\u001b[0m\u001b[37m\u001b[0m \u001b[1m4s\u001b[0m 82ms/step - loss: 0.0238 - val_loss: 0.0270 - learning_rate: 2.0000e-04\n",
            "Epoch 8/100\n",
            "\u001b[1m51/51\u001b[0m \u001b[32m━━━━━━━━━━━━━━━━━━━━\u001b[0m\u001b[37m\u001b[0m \u001b[1m4s\u001b[0m 55ms/step - loss: 0.0234 - val_loss: 0.0270 - learning_rate: 2.0000e-04\n",
            "Epoch 9/100\n",
            "\u001b[1m51/51\u001b[0m \u001b[32m━━━━━━━━━━━━━━━━━━━━\u001b[0m\u001b[37m\u001b[0m \u001b[1m6s\u001b[0m 81ms/step - loss: 0.0227 - val_loss: 0.0271 - learning_rate: 2.0000e-04\n",
            "Epoch 10/100\n",
            "\u001b[1m51/51\u001b[0m \u001b[32m━━━━━━━━━━━━━━━━━━━━\u001b[0m\u001b[37m\u001b[0m \u001b[1m3s\u001b[0m 57ms/step - loss: 0.0228 - val_loss: 0.0270 - learning_rate: 2.0000e-04\n",
            "Epoch 11/100\n",
            "\u001b[1m51/51\u001b[0m \u001b[32m━━━━━━━━━━━━━━━━━━━━\u001b[0m\u001b[37m\u001b[0m \u001b[1m5s\u001b[0m 56ms/step - loss: 0.0223 - val_loss: 0.0270 - learning_rate: 2.0000e-04\n",
            "Epoch 12/100\n",
            "\u001b[1m51/51\u001b[0m \u001b[32m━━━━━━━━━━━━━━━━━━━━\u001b[0m\u001b[37m\u001b[0m \u001b[1m6s\u001b[0m 70ms/step - loss: 0.0247 - val_loss: 0.0269 - learning_rate: 4.0000e-05\n",
            "Epoch 13/100\n",
            "\u001b[1m51/51\u001b[0m \u001b[32m━━━━━━━━━━━━━━━━━━━━\u001b[0m\u001b[37m\u001b[0m \u001b[1m4s\u001b[0m 55ms/step - loss: 0.0216 - val_loss: 0.0269 - learning_rate: 4.0000e-05\n",
            "Epoch 14/100\n",
            "\u001b[1m51/51\u001b[0m \u001b[32m━━━━━━━━━━━━━━━━━━━━\u001b[0m\u001b[37m\u001b[0m \u001b[1m3s\u001b[0m 54ms/step - loss: 0.0219 - val_loss: 0.0269 - learning_rate: 4.0000e-05\n",
            "Epoch 15/100\n",
            "\u001b[1m51/51\u001b[0m \u001b[32m━━━━━━━━━━━━━━━━━━━━\u001b[0m\u001b[37m\u001b[0m \u001b[1m4s\u001b[0m 77ms/step - loss: 0.0232 - val_loss: 0.0270 - learning_rate: 4.0000e-05\n",
            "Epoch 16/100\n",
            "\u001b[1m51/51\u001b[0m \u001b[32m━━━━━━━━━━━━━━━━━━━━\u001b[0m\u001b[37m\u001b[0m \u001b[1m4s\u001b[0m 56ms/step - loss: 0.0237 - val_loss: 0.0269 - learning_rate: 4.0000e-05\n"
          ]
        }
      ],
      "source": [
        "# Train\n",
        "trained_model, history = train_lstm(model, X_train, y_train)"
      ]
    },
    {
      "cell_type": "code",
      "execution_count": 9,
      "metadata": {
        "colab": {
          "base_uri": "https://localhost:8080/"
        },
        "id": "0vO16ky9Y-37",
        "outputId": "d07fbb60-616c-44f6-950c-dd045a3e8615"
      },
      "outputs": [
        {
          "output_type": "stream",
          "name": "stdout",
          "text": [
            "\u001b[1m15/15\u001b[0m \u001b[32m━━━━━━━━━━━━━━━━━━━━\u001b[0m\u001b[37m\u001b[0m \u001b[1m1s\u001b[0m 41ms/step\n",
            "Scaled predictions sample: [[-0.12452505]\n",
            " [-0.12176704]\n",
            " [-0.12105477]\n",
            " [-0.11949754]\n",
            " [-0.11885146]]\n",
            "Inverse transformed sample: [[-0.00248144]\n",
            " [-0.0019049 ]\n",
            " [-0.00175601]\n",
            " [-0.00143048]\n",
            " [-0.00129542]]\n",
            "Index range: 2044 to 2504\n",
            "Last prices sample: [197.33000183 207.78999329 202.69000244 198.74000549 190.67999268]\n",
            "Final prices sample: [196.84033521 207.39417312 202.33407628 198.45571748 190.43297678]\n"
          ]
        }
      ],
      "source": [
        "# Forecast\n",
        "predictions = forecast_lstm(trained_model, X_test, scaler, data)"
      ]
    },
    {
      "cell_type": "code",
      "source": [
        "# Align predictions\n",
        "valid = data.iloc[-len(predictions):].copy()\n",
        "valid['Predictions'] = predictions"
      ],
      "metadata": {
        "id": "CAttyQvleeqq"
      },
      "execution_count": 10,
      "outputs": []
    },
    {
      "cell_type": "code",
      "source": [
        "# Evaluate\n",
        "evaluate_lstm(valid['Close'], valid['Predictions'])\n",
        "plot_lstm_results(valid['Close'], valid['Predictions'], valid.index)"
      ],
      "metadata": {
        "colab": {
          "base_uri": "https://localhost:8080/",
          "height": 494
        },
        "id": "orVzfDmHkqkK",
        "outputId": "17fa6323-dca3-4bc6-d774-a62e8613459e"
      },
      "execution_count": 11,
      "outputs": [
        {
          "output_type": "stream",
          "name": "stdout",
          "text": [
            "MAE: 5.57\n",
            "RMSE: 8.20\n",
            "MAPE: 2.25%\n"
          ]
        },
        {
          "output_type": "display_data",
          "data": {
            "text/plain": [
              "<Figure size 1200x600 with 1 Axes>"
            ],
            "image/png": "[encoded data removed]"
          },
          "metadata": {}
        }
      ]
    }
  ],
  "metadata": {
    "kernelspec": {
      "display_name": "week-11",
      "language": "python",
      "name": "python3"
    },
    "language_info": {
      "codemirror_mode": {
        "name": "ipython",
        "version": 3
      },
      "file_extension": ".py",
      "mimetype": "text/x-python",
      "name": "python",
      "nbconvert_exporter": "python",
      "pygments_lexer": "ipython3",
      "version": "3.11.9"
    },
    "colab": {
      "provenance": []
    }
  },
  "nbformat": 4,
  "nbformat_minor": 0
}