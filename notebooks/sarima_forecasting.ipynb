{
 "cells": [
  {
   "cell_type": "code",
   "execution_count": 1,
   "metadata": {},
   "outputs": [],
   "source": [
    "# Import necessary libraries\n",
    "import pandas as pd\n",
    "import numpy as np\n",
    "import matplotlib.pyplot as plt\n",
    "import sys\n",
    "import logging\n",
    "import os\n",
    "import warnings\n",
    "warnings.filterwarnings(\"ignore\", category=FutureWarning)"
   ]
  },
  {
   "cell_type": "code",
   "execution_count": 2,
   "metadata": {},
   "outputs": [],
   "source": [
    "# Import from scripts\n",
    "sys.path.append(\"..\") \n",
    "from src.data_loader import load_tsla_data\n",
    "#from scripts.arima import train_arima, forecast_arima, evaluate_arima, plot_results,preprocess_data"
   ]
  },
  {
   "cell_type": "code",
   "execution_count": 3,
   "metadata": {},
   "outputs": [
    {
     "name": "stderr",
     "output_type": "stream",
     "text": [
      "2025-03-01 22:16:37,524 - INFO - Loading TSLA data from CSV...\n",
      "2025-03-01 22:16:37,622 - INFO - Verifying TSLA data integrity...\n",
      "2025-03-01 22:16:37,625 - INFO - TSLA data loaded successfully. Shape: (2505, 9), Missing values: 0\n"
     ]
    }
   ],
   "source": [
    "tesla_data = load_tsla_data('../data/TSLA_cleaned.csv')  \n",
    "\n"
   ]
  }
 ],
 "metadata": {
  "kernelspec": {
   "display_name": "week-11",
   "language": "python",
   "name": "python3"
  },
  "language_info": {
   "codemirror_mode": {
    "name": "ipython",
    "version": 3
   },
   "file_extension": ".py",
   "mimetype": "text/x-python",
   "name": "python",
   "nbconvert_exporter": "python",
   "pygments_lexer": "ipython3",
   "version": "3.11.9"
  }
 },
 "nbformat": 4,
 "nbformat_minor": 2
}
