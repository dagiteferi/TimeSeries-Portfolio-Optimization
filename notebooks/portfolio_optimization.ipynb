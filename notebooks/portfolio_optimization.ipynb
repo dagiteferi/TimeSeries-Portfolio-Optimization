{
 "cells": [
  {
   "cell_type": "code",
   "execution_count": 1,
   "metadata": {},
   "outputs": [],
   "source": [
    "import pandas as pd\n",
    "import sys\n",
    "# Load median_forecast from Task 3\n",
    "import numpy as np\n"
   ]
  },
  {
   "cell_type": "code",
   "execution_count": 2,
   "metadata": {},
   "outputs": [],
   "source": [
    "# Import the portfolio optimization module\n",
    "\n",
    "sys.path.append(\"../scripts\")\n",
    "\n",
    "\n",
    "from portfolio_optimization import (\n",
    "    load_historical_data,\n",
    "    forecast_prices,\n",
    "    optimize_portfolio,\n",
    "    plot_portfolio_performance\n",
    ")"
   ]
  },
  {
   "cell_type": "code",
   "execution_count": 3,
   "metadata": {},
   "outputs": [
    {
     "name": "stderr",
     "output_type": "stream",
     "text": [
      "2025-03-03 22:06:16,808 - INFO - Loading data for TSLA...\n",
      "2025-03-03 22:06:16,812 - ERROR - Error loading data for TSLA: [Errno 2] No such file or directory: 'c:\\\\Users\\\\HP\\\\Documents\\\\Dagii\\\\week-11\\\\TimeSeries-Portfolio-Optimization\\\\scripts\\\\data\\\\cleaned_tesla.csv'\n",
      "2025-03-03 22:06:16,814 - INFO - Loading data for BND...\n",
      "2025-03-03 22:06:16,816 - ERROR - Error loading data for BND: [Errno 2] No such file or directory: 'c:\\\\Users\\\\HP\\\\Documents\\\\Dagii\\\\week-11\\\\TimeSeries-Portfolio-Optimization\\\\scripts\\\\data\\\\BND_data.csv'\n",
      "2025-03-03 22:06:16,817 - INFO - Loading data for SPY...\n",
      "2025-03-03 22:06:16,818 - ERROR - Error loading data for SPY: [Errno 2] No such file or directory: 'c:\\\\Users\\\\HP\\\\Documents\\\\Dagii\\\\week-11\\\\TimeSeries-Portfolio-Optimization\\\\scripts\\\\data\\\\SPY_data.csv'\n"
     ]
    },
    {
     "ename": "TypeError",
     "evalue": "'NoneType' object is not subscriptable",
     "output_type": "error",
     "traceback": [
      "\u001b[1;31m---------------------------------------------------------------------------\u001b[0m",
      "\u001b[1;31mTypeError\u001b[0m                                 Traceback (most recent call last)",
      "Cell \u001b[1;32mIn[3], line 8\u001b[0m\n\u001b[0;32m      4\u001b[0m spy_data \u001b[38;5;241m=\u001b[39m load_historical_data(\u001b[38;5;124m\"\u001b[39m\u001b[38;5;124mSPY\u001b[39m\u001b[38;5;124m\"\u001b[39m)\n\u001b[0;32m      6\u001b[0m \u001b[38;5;66;03m# Combine data into a single DataFrame\u001b[39;00m\n\u001b[0;32m      7\u001b[0m combined_data \u001b[38;5;241m=\u001b[39m pd\u001b[38;5;241m.\u001b[39mDataFrame({\n\u001b[1;32m----> 8\u001b[0m     \u001b[38;5;124m'\u001b[39m\u001b[38;5;124mTSLA\u001b[39m\u001b[38;5;124m'\u001b[39m: \u001b[43mtsla_data\u001b[49m\u001b[43m[\u001b[49m\u001b[38;5;124;43m'\u001b[39;49m\u001b[38;5;124;43mClose\u001b[39;49m\u001b[38;5;124;43m'\u001b[39;49m\u001b[43m]\u001b[49m,\n\u001b[0;32m      9\u001b[0m     \u001b[38;5;124m'\u001b[39m\u001b[38;5;124mBND\u001b[39m\u001b[38;5;124m'\u001b[39m: bnd_data[\u001b[38;5;124m'\u001b[39m\u001b[38;5;124mClose\u001b[39m\u001b[38;5;124m'\u001b[39m],\n\u001b[0;32m     10\u001b[0m     \u001b[38;5;124m'\u001b[39m\u001b[38;5;124mSPY\u001b[39m\u001b[38;5;124m'\u001b[39m: spy_data[\u001b[38;5;124m'\u001b[39m\u001b[38;5;124mClose\u001b[39m\u001b[38;5;124m'\u001b[39m]\n\u001b[0;32m     11\u001b[0m }, index\u001b[38;5;241m=\u001b[39mtsla_data\u001b[38;5;241m.\u001b[39mindex)\n",
      "\u001b[1;31mTypeError\u001b[0m: 'NoneType' object is not subscriptable"
     ]
    }
   ],
   "source": [
    "# Load historical data\n",
    "tsla_data = load_historical_data(\"TSLA\")  # Uses cleaned_tesla.csv\n",
    "bnd_data = load_historical_data(\"BND\")\n",
    "spy_data = load_historical_data(\"SPY\")\n",
    "\n",
    "# Combine data into a single DataFrame\n",
    "combined_data = pd.DataFrame({\n",
    "    'TSLA': tsla_data['Close'],\n",
    "    'BND': bnd_data['Close'],\n",
    "    'SPY': spy_data['Close']\n",
    "}, index=tsla_data.index)"
   ]
  },
  {
   "cell_type": "code",
   "execution_count": null,
   "metadata": {},
   "outputs": [],
   "source": [
    "# Optimize portfolio\n",
    "optimal_weights, portfolio_return, portfolio_volatility, sharpe_ratio, var_95 = po.optimize_portfolio(forecast_df)"
   ]
  },
  {
   "cell_type": "code",
   "execution_count": null,
   "metadata": {},
   "outputs": [],
   "source": [
    "# Plot portfolio performance\n",
    "po.plot_portfolio_performance(forecast_df, optimal_weights)"
   ]
  },
  {
   "cell_type": "code",
   "execution_count": null,
   "metadata": {},
   "outputs": [],
   "source": [
    "# Print results\n",
    "print(f\"\"\"\n",
    "** Optimized Portfolio Allocation **\n",
    "- TSLA: {optimal_weights[0]:.2%}\n",
    "- BND: {optimal_weights[1]:.2%}\n",
    "- SPY: {optimal_weights[2]:.2%}\n",
    "\n",
    "** Portfolio Metrics **\n",
    "- Expected Annual Return: {portfolio_return:.2%}\n",
    "- Annual Volatility: {portfolio_volatility:.2%}\n",
    "- Sharpe Ratio: {sharpe_ratio:.2f}\n",
    "- Value at Risk (95%): {var_95:.2%}\n",
    "\"\"\")"
   ]
  }
 ],
 "metadata": {
  "kernelspec": {
   "display_name": "week-11",
   "language": "python",
   "name": "python3"
  },
  "language_info": {
   "codemirror_mode": {
    "name": "ipython",
    "version": 3
   },
   "file_extension": ".py",
   "mimetype": "text/x-python",
   "name": "python",
   "nbconvert_exporter": "python",
   "pygments_lexer": "ipython3",
   "version": "3.11.9"
  }
 },
 "nbformat": 4,
 "nbformat_minor": 2
}
