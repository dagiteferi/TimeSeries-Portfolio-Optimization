{
 "cells": [
  {
   "cell_type": "code",
   "execution_count": 1,
   "metadata": {},
   "outputs": [],
   "source": [
    "import pandas as pd\n",
    "import sys\n",
    "# Load median_forecast from Task 3\n",
    "import numpy as np\n"
   ]
  },
  {
   "cell_type": "code",
   "execution_count": 2,
   "metadata": {},
   "outputs": [],
   "source": [
    "# Import the portfolio optimization module\n",
    "\n",
    "sys.path.append(\"../scripts\")\n",
    "\n",
    "\n",
    "from portfolio_optimization import (\n",
    "   \n",
    "    load_historical_data,\n",
    "\n",
    "    forecast_prices,\n",
    "    optimize_portfolio,\n",
    "    plot_portfolio_performance\n",
    ")"
   ]
  },
  {
   "cell_type": "code",
   "execution_count": 3,
   "metadata": {},
   "outputs": [
    {
     "name": "stdout",
     "output_type": "stream",
     "text": [
      "Number of columns in TSLA_data.csv: 6\n",
      "Number of columns in BND_data.csv: 6\n",
      "Number of columns in SPY_data.csv: 6\n",
      "        TSLA        BND         SPY\n",
      "0  14.433333  62.777518  171.702356\n",
      "1  14.280000  63.125810  170.316050\n",
      "2  14.318667  63.050050  170.316116\n",
      "3  14.253333  62.921385  173.206165\n",
      "4  13.998667  63.057630  173.424635\n"
     ]
    }
   ],
   "source": [
    "# Load historical data\n",
    "tsla_data = load_historical_data(\"TSLA\")  # Uses cleaned_tesla.csv\n",
    "bnd_data = load_historical_data(\"BND\")\n",
    "spy_data = load_historical_data(\"SPY\")\n",
    "\n",
    "# Check if data was loaded successfully\n",
    "if tsla_data is None or bnd_data is None or spy_data is None:\n",
    "    raise FileNotFoundError(\"One or more data files are missing. Please check the data folder.\")\n",
    "\n",
    "# Ensure the 'Close' column exists in all datasets\n",
    "if 'Close' not in tsla_data.columns or 'Close' not in bnd_data.columns or 'Close' not in spy_data.columns:\n",
    "    raise ValueError(\"The 'Close' column is missing in one or more datasets.\")\n",
    "\n",
    "# Combine data into a single DataFrame\n",
    "combined_data = pd.DataFrame({\n",
    "    'TSLA': tsla_data['Close'],\n",
    "    'BND': bnd_data['Close'],\n",
    "    'SPY': spy_data['Close']\n",
    "}, index=tsla_data.index)\n",
    "\n",
    "# Display the combined data\n",
    "print(combined_data.head())"
   ]
  },
  {
   "cell_type": "code",
   "execution_count": 4,
   "metadata": {},
   "outputs": [
    {
     "ename": "NameError",
     "evalue": "name 'po' is not defined",
     "output_type": "error",
     "traceback": [
      "\u001b[1;31m---------------------------------------------------------------------------\u001b[0m",
      "\u001b[1;31mNameError\u001b[0m                                 Traceback (most recent call last)",
      "Cell \u001b[1;32mIn[4], line 2\u001b[0m\n\u001b[0;32m      1\u001b[0m \u001b[38;5;66;03m# Optimize portfolio\u001b[39;00m\n\u001b[1;32m----> 2\u001b[0m optimal_weights, portfolio_return, portfolio_volatility, sharpe_ratio, var_95 \u001b[38;5;241m=\u001b[39m \u001b[43mpo\u001b[49m\u001b[38;5;241m.\u001b[39moptimize_portfolio(forecast_df)\n",
      "\u001b[1;31mNameError\u001b[0m: name 'po' is not defined"
     ]
    }
   ],
   "source": [
    "# Optimize portfolio\n",
    "optimal_weights, portfolio_return, portfolio_volatility, sharpe_ratio, var_95 = po.optimize_portfolio(forecast_df)"
   ]
  },
  {
   "cell_type": "code",
   "execution_count": null,
   "metadata": {},
   "outputs": [],
   "source": [
    "# Plot portfolio performance\n",
    "po.plot_portfolio_performance(forecast_df, optimal_weights)"
   ]
  },
  {
   "cell_type": "code",
   "execution_count": null,
   "metadata": {},
   "outputs": [],
   "source": [
    "# Print results\n",
    "print(f\"\"\"\n",
    "** Optimized Portfolio Allocation **\n",
    "- TSLA: {optimal_weights[0]:.2%}\n",
    "- BND: {optimal_weights[1]:.2%}\n",
    "- SPY: {optimal_weights[2]:.2%}\n",
    "\n",
    "** Portfolio Metrics **\n",
    "- Expected Annual Return: {portfolio_return:.2%}\n",
    "- Annual Volatility: {portfolio_volatility:.2%}\n",
    "- Sharpe Ratio: {sharpe_ratio:.2f}\n",
    "- Value at Risk (95%): {var_95:.2%}\n",
    "\"\"\")"
   ]
  }
 ],
 "metadata": {
  "kernelspec": {
   "display_name": "week-11",
   "language": "python",
   "name": "python3"
  },
  "language_info": {
   "codemirror_mode": {
    "name": "ipython",
    "version": 3
   },
   "file_extension": ".py",
   "mimetype": "text/x-python",
   "name": "python",
   "nbconvert_exporter": "python",
   "pygments_lexer": "ipython3",
   "version": "3.11.9"
  }
 },
 "nbformat": 4,
 "nbformat_minor": 2
}
