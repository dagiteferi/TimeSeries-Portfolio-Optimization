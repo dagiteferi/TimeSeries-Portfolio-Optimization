{
 "cells": [
  {
   "cell_type": "code",
   "execution_count": 1,
   "metadata": {},
   "outputs": [],
   "source": [
    "import pandas as pd\n",
    "import sys\n",
    "# Load median_forecast from Task 3\n",
    "import numpy as np\n"
   ]
  },
  {
   "cell_type": "code",
   "execution_count": 2,
   "metadata": {},
   "outputs": [],
   "source": [
    "# Import the portfolio optimization module\n",
    "\n",
    "sys.path.append(\"../scripts\")\n",
    "\n",
    "\n",
    "from portfolio_optimization import (\n",
    "   \n",
    "    load_historical_data,\n",
    "\n",
    "    forecast_prices,\n",
    "    optimize_portfolio,\n",
    "    plot_portfolio_performance\n",
    ")"
   ]
  },
  {
   "cell_type": "code",
   "execution_count": 3,
   "metadata": {},
   "outputs": [
    {
     "name": "stdout",
     "output_type": "stream",
     "text": [
      "Number of columns in TSLA_data.csv: 6\n",
      "Number of columns in BND_data.csv: 6\n",
      "Number of columns in SPY_data.csv: 6\n",
      "                 TSLA        BND         SPY\n",
      "Date                                        \n",
      "2015-01-05  14.433333  62.777518  171.702356\n",
      "2015-01-06  14.280000  63.125810  170.316050\n",
      "2015-01-07  14.318667  63.050050  170.316116\n",
      "2015-01-08  14.253333  62.921385  173.206165\n",
      "2015-01-09  13.998667  63.057630  173.424635\n"
     ]
    }
   ],
   "source": [
    "# Load historical data\n",
    "tsla_data = load_historical_data(\"TSLA\")  # Uses cleaned_tesla.csv\n",
    "bnd_data = load_historical_data(\"BND\")\n",
    "spy_data = load_historical_data(\"SPY\")\n",
    "\n",
    "# Check if data was loaded successfully\n",
    "if tsla_data is None or bnd_data is None or spy_data is None:\n",
    "    raise FileNotFoundError(\"One or more data files are missing. Please check the data folder.\")\n",
    "\n",
    "# Ensure the 'Close' column exists in all datasets\n",
    "if 'Close' not in tsla_data.columns or 'Close' not in bnd_data.columns or 'Close' not in spy_data.columns:\n",
    "    raise ValueError(\"The 'Close' column is missing in one or more datasets.\")\n",
    "\n",
    "# Combine data into a single DataFrame\n",
    "combined_data = pd.DataFrame({\n",
    "    'TSLA': tsla_data['Close'],\n",
    "    'BND': bnd_data['Close'],\n",
    "    'SPY': spy_data['Close']\n",
    "}, index=tsla_data.index)\n",
    "\n",
    "# Display the combined data\n",
    "print(combined_data.head())"
   ]
  },
  {
   "cell_type": "code",
   "execution_count": 4,
   "metadata": {},
   "outputs": [],
   "source": [
    "# Load the forecasted TSLA prices\n",
    "tsla_forecast = np.load(\"../data/median_forecast.npy\") "
   ]
  },
  {
   "cell_type": "code",
   "execution_count": 5,
   "metadata": {},
   "outputs": [
    {
     "name": "stdout",
     "output_type": "stream",
     "text": [
      "                  TSLA        BND         SPY\n",
      "2025-01-31  414.929290  72.298716  606.925105\n",
      "2025-02-03  415.087646  72.303055  607.250408\n",
      "2025-02-04  413.795597  72.307393  607.575886\n",
      "2025-02-05  413.474829  72.311733  607.901538\n",
      "2025-02-06  413.939437  72.316072  608.227364\n"
     ]
    }
   ],
   "source": [
    "# Load the forecasted TSLA prices from Task 3\n",
    "tsla_forecast = np.load(\"../data/median_forecast.npy\")  # Replace with actual forecast\n",
    "\n",
    "# Forecast prices for BND and SPY\n",
    "forecast_df = forecast_prices(combined_data, tsla_forecast)\n",
    "print(forecast_df.head())"
   ]
  },
  {
   "cell_type": "code",
   "execution_count": 6,
   "metadata": {},
   "outputs": [
    {
     "name": "stderr",
     "output_type": "stream",
     "text": [
      "ERROR:root:Error optimizing portfolio: name 'minimize' is not defined\n"
     ]
    },
    {
     "ename": "NameError",
     "evalue": "name 'minimize' is not defined",
     "output_type": "error",
     "traceback": [
      "\u001b[1;31m---------------------------------------------------------------------------\u001b[0m",
      "\u001b[1;31mNameError\u001b[0m                                 Traceback (most recent call last)",
      "Cell \u001b[1;32mIn[6], line 2\u001b[0m\n\u001b[0;32m      1\u001b[0m \u001b[38;5;66;03m# Optimize portfolio\u001b[39;00m\n\u001b[1;32m----> 2\u001b[0m optimal_weights, portfolio_return, portfolio_volatility, sharpe_ratio, var_95 \u001b[38;5;241m=\u001b[39m \u001b[43moptimize_portfolio\u001b[49m\u001b[43m(\u001b[49m\u001b[43mforecast_df\u001b[49m\u001b[43m)\u001b[49m\n\u001b[0;32m      4\u001b[0m \u001b[38;5;66;03m# Display results\u001b[39;00m\n\u001b[0;32m      5\u001b[0m \u001b[38;5;28mprint\u001b[39m(\u001b[38;5;124m\"\u001b[39m\u001b[38;5;124mOptimal Weights:\u001b[39m\u001b[38;5;124m\"\u001b[39m, optimal_weights)\n",
      "File \u001b[1;32mc:\\Users\\HP\\Documents\\Dagii\\week-11\\TimeSeries-Portfolio-Optimization\\notebooks\\../scripts\\portfolio_optimization.py:148\u001b[0m, in \u001b[0;36moptimize_portfolio\u001b[1;34m(forecast_df)\u001b[0m\n\u001b[0;32m    145\u001b[0m initial_guess \u001b[38;5;241m=\u001b[39m [\u001b[38;5;241m0.33\u001b[39m, \u001b[38;5;241m0.33\u001b[39m, \u001b[38;5;241m0.33\u001b[39m]\n\u001b[0;32m    147\u001b[0m \u001b[38;5;66;03m# Optimize\u001b[39;00m\n\u001b[1;32m--> 148\u001b[0m result \u001b[38;5;241m=\u001b[39m \u001b[43mminimize\u001b[49m(\n\u001b[0;32m    149\u001b[0m     negative_sharpe,\n\u001b[0;32m    150\u001b[0m     initial_guess,\n\u001b[0;32m    151\u001b[0m     args\u001b[38;5;241m=\u001b[39m(annual_returns, cov_matrix),\n\u001b[0;32m    152\u001b[0m     method\u001b[38;5;241m=\u001b[39m\u001b[38;5;124m'\u001b[39m\u001b[38;5;124mSLSQP\u001b[39m\u001b[38;5;124m'\u001b[39m,\n\u001b[0;32m    153\u001b[0m     bounds\u001b[38;5;241m=\u001b[39mbounds,\n\u001b[0;32m    154\u001b[0m     constraints\u001b[38;5;241m=\u001b[39mconstraints\n\u001b[0;32m    155\u001b[0m )\n\u001b[0;32m    156\u001b[0m optimal_weights \u001b[38;5;241m=\u001b[39m result\u001b[38;5;241m.\u001b[39mx\n\u001b[0;32m    158\u001b[0m \u001b[38;5;66;03m# Portfolio metrics\u001b[39;00m\n",
      "\u001b[1;31mNameError\u001b[0m: name 'minimize' is not defined"
     ]
    }
   ],
   "source": [
    "# Optimize portfolio\n",
    "optimal_weights, portfolio_return, portfolio_volatility, sharpe_ratio, var_95 = optimize_portfolio(forecast_df)\n",
    "\n",
    "# Display results\n",
    "print(\"Optimal Weights:\", optimal_weights)\n",
    "print(\"Portfolio Return:\", portfolio_return)\n",
    "print(\"Portfolio Volatility:\", portfolio_volatility)\n",
    "print(\"Sharpe Ratio:\", sharpe_ratio)\n",
    "print(\"Value at Risk (95%):\", var_95)"
   ]
  },
  {
   "cell_type": "code",
   "execution_count": null,
   "metadata": {},
   "outputs": [],
   "source": [
    "# Plot portfolio performance\n",
    "plot_portfolio_performance(forecast_df, optimal_weights)"
   ]
  },
  {
   "cell_type": "code",
   "execution_count": null,
   "metadata": {},
   "outputs": [],
   "source": [
    "# Print results\n",
    "print(f\"\"\"\n",
    "** Optimized Portfolio Allocation **\n",
    "- TSLA: {optimal_weights[0]:.2%}\n",
    "- BND: {optimal_weights[1]:.2%}\n",
    "- SPY: {optimal_weights[2]:.2%}\n",
    "\n",
    "** Portfolio Metrics **\n",
    "- Expected Annual Return: {portfolio_return:.2%}\n",
    "- Annual Volatility: {portfolio_volatility:.2%}\n",
    "- Sharpe Ratio: {sharpe_ratio:.2f}\n",
    "- Value at Risk (95%): {var_95:.2%}\n",
    "\"\"\")"
   ]
  }
 ],
 "metadata": {
  "kernelspec": {
   "display_name": "week-11",
   "language": "python",
   "name": "python3"
  },
  "language_info": {
   "codemirror_mode": {
    "name": "ipython",
    "version": 3
   },
   "file_extension": ".py",
   "mimetype": "text/x-python",
   "name": "python",
   "nbconvert_exporter": "python",
   "pygments_lexer": "ipython3",
   "version": "3.11.9"
  }
 },
 "nbformat": 4,
 "nbformat_minor": 2
}
