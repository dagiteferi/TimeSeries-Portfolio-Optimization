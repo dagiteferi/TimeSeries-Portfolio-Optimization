{
 "cells": [
  {
   "cell_type": "code",
   "execution_count": 7,
   "metadata": {},
   "outputs": [],
   "source": [
    "# Import necessary libraries\n",
    "import pandas as pd\n",
    "import numpy as np\n",
    "import matplotlib.pyplot as plt\n",
    "import sys\n",
    "import logging\n",
    "import os\n",
    "import warnings\n",
    "warnings.filterwarnings(\"ignore\", category=FutureWarning)"
   ]
  },
  {
   "cell_type": "code",
   "execution_count": 2,
   "metadata": {},
   "outputs": [],
   "source": [
    "# Import from scripts\n",
    "sys.path.append(\"..\") \n",
    "from src.data_loader import load_tsla_data\n",
    "from scripts.arima import train_arima, forecast_arima, evaluate_arima, plot_arima"
   ]
  },
  {
   "cell_type": "code",
   "execution_count": 3,
   "metadata": {},
   "outputs": [
    {
     "name": "stderr",
     "output_type": "stream",
     "text": [
      "2025-03-01 20:59:23,777 - INFO - Loading TSLA data from CSV...\n",
      "2025-03-01 20:59:23,842 - INFO - Verifying TSLA data integrity...\n",
      "2025-03-01 20:59:23,845 - INFO - TSLA data loaded successfully. Shape: (2505, 9), Missing values: 0\n"
     ]
    }
   ],
   "source": [
    "tesla_data = load_tsla_data('../data/TSLA_cleaned.csv')  # Load from relative path in data/\n",
    "\n"
   ]
  },
  {
   "cell_type": "code",
   "execution_count": 4,
   "metadata": {},
   "outputs": [
    {
     "data": {
      "text/html": [
       "<div>\n",
       "<style scoped>\n",
       "    .dataframe tbody tr th:only-of-type {\n",
       "        vertical-align: middle;\n",
       "    }\n",
       "\n",
       "    .dataframe tbody tr th {\n",
       "        vertical-align: top;\n",
       "    }\n",
       "\n",
       "    .dataframe thead th {\n",
       "        text-align: right;\n",
       "    }\n",
       "</style>\n",
       "<table border=\"1\" class=\"dataframe\">\n",
       "  <thead>\n",
       "    <tr style=\"text-align: right;\">\n",
       "      <th></th>\n",
       "      <th>Price</th>\n",
       "      <th>Close</th>\n",
       "      <th>High</th>\n",
       "      <th>Low</th>\n",
       "      <th>Volume</th>\n",
       "      <th>Daily_Return</th>\n",
       "      <th>Rolling_Mean</th>\n",
       "      <th>Rolling_Std</th>\n",
       "      <th>Z_Score</th>\n",
       "    </tr>\n",
       "    <tr>\n",
       "      <th>Date</th>\n",
       "      <th></th>\n",
       "      <th></th>\n",
       "      <th></th>\n",
       "      <th></th>\n",
       "      <th></th>\n",
       "      <th></th>\n",
       "      <th></th>\n",
       "      <th></th>\n",
       "      <th></th>\n",
       "    </tr>\n",
       "  </thead>\n",
       "  <tbody>\n",
       "    <tr>\n",
       "      <th>2015-02-17</th>\n",
       "      <td>13.623333</td>\n",
       "      <td>13.713333</td>\n",
       "      <td>13.433333</td>\n",
       "      <td>13.713333</td>\n",
       "      <td>59694000</td>\n",
       "      <td>-0.140787</td>\n",
       "      <td>13.940933</td>\n",
       "      <td>0.583636</td>\n",
       "      <td>-0.895868</td>\n",
       "    </tr>\n",
       "    <tr>\n",
       "      <th>2015-02-18</th>\n",
       "      <td>13.630667</td>\n",
       "      <td>13.744667</td>\n",
       "      <td>13.506667</td>\n",
       "      <td>13.611333</td>\n",
       "      <td>40704000</td>\n",
       "      <td>0.228492</td>\n",
       "      <td>13.917978</td>\n",
       "      <td>0.577107</td>\n",
       "      <td>-0.895605</td>\n",
       "    </tr>\n",
       "    <tr>\n",
       "      <th>2015-02-19</th>\n",
       "      <td>14.114000</td>\n",
       "      <td>14.162667</td>\n",
       "      <td>13.583333</td>\n",
       "      <td>13.666667</td>\n",
       "      <td>77311500</td>\n",
       "      <td>3.041181</td>\n",
       "      <td>13.914067</td>\n",
       "      <td>0.574963</td>\n",
       "      <td>-0.892099</td>\n",
       "    </tr>\n",
       "    <tr>\n",
       "      <th>2015-02-20</th>\n",
       "      <td>14.474000</td>\n",
       "      <td>14.506667</td>\n",
       "      <td>13.987333</td>\n",
       "      <td>14.052000</td>\n",
       "      <td>89731500</td>\n",
       "      <td>2.428920</td>\n",
       "      <td>13.920333</td>\n",
       "      <td>0.580523</td>\n",
       "      <td>-0.889213</td>\n",
       "    </tr>\n",
       "    <tr>\n",
       "      <th>2015-02-23</th>\n",
       "      <td>13.822667</td>\n",
       "      <td>14.546667</td>\n",
       "      <td>13.755333</td>\n",
       "      <td>14.377333</td>\n",
       "      <td>127497000</td>\n",
       "      <td>0.275735</td>\n",
       "      <td>13.930111</td>\n",
       "      <td>0.588737</td>\n",
       "      <td>-0.888878</td>\n",
       "    </tr>\n",
       "  </tbody>\n",
       "</table>\n",
       "</div>"
      ],
      "text/plain": [
       "                Price      Close       High        Low     Volume  \\\n",
       "Date                                                                \n",
       "2015-02-17  13.623333  13.713333  13.433333  13.713333   59694000   \n",
       "2015-02-18  13.630667  13.744667  13.506667  13.611333   40704000   \n",
       "2015-02-19  14.114000  14.162667  13.583333  13.666667   77311500   \n",
       "2015-02-20  14.474000  14.506667  13.987333  14.052000   89731500   \n",
       "2015-02-23  13.822667  14.546667  13.755333  14.377333  127497000   \n",
       "\n",
       "            Daily_Return  Rolling_Mean  Rolling_Std   Z_Score  \n",
       "Date                                                           \n",
       "2015-02-17     -0.140787     13.940933     0.583636 -0.895868  \n",
       "2015-02-18      0.228492     13.917978     0.577107 -0.895605  \n",
       "2015-02-19      3.041181     13.914067     0.574963 -0.892099  \n",
       "2015-02-20      2.428920     13.920333     0.580523 -0.889213  \n",
       "2015-02-23      0.275735     13.930111     0.588737 -0.888878  "
      ]
     },
     "execution_count": 4,
     "metadata": {},
     "output_type": "execute_result"
    }
   ],
   "source": [
    "tesla_data.head()  # Display the first 5 rows of the data"
   ]
  },
  {
   "cell_type": "code",
   "execution_count": 8,
   "metadata": {},
   "outputs": [
    {
     "name": "stdout",
     "output_type": "stream",
     "text": [
      "Performing stepwise search to minimize aic\n",
      " ARIMA(1,1,1)(0,0,0)[0] intercept   : AIC=15570.191, Time=0.50 sec\n",
      " ARIMA(0,1,0)(0,0,0)[0] intercept   : AIC=15661.574, Time=0.05 sec\n",
      " ARIMA(1,1,0)(0,0,0)[0] intercept   : AIC=15580.500, Time=0.20 sec\n",
      " ARIMA(0,1,1)(0,0,0)[0] intercept   : AIC=15569.969, Time=0.27 sec\n",
      " ARIMA(0,1,0)(0,0,0)[0]             : AIC=15661.722, Time=0.04 sec\n",
      " ARIMA(0,1,2)(0,0,0)[0] intercept   : AIC=15569.578, Time=0.62 sec\n",
      " ARIMA(1,1,2)(0,0,0)[0] intercept   : AIC=15570.960, Time=1.27 sec\n",
      " ARIMA(0,1,3)(0,0,0)[0] intercept   : AIC=15569.407, Time=0.89 sec\n",
      " ARIMA(1,1,3)(0,0,0)[0] intercept   : AIC=15571.752, Time=2.03 sec\n",
      " ARIMA(0,1,3)(0,0,0)[0]             : AIC=15569.128, Time=0.25 sec\n",
      " ARIMA(0,1,2)(0,0,0)[0]             : AIC=15569.200, Time=0.24 sec\n",
      " ARIMA(1,1,3)(0,0,0)[0]             : AIC=15571.077, Time=0.80 sec\n",
      " ARIMA(1,1,2)(0,0,0)[0]             : AIC=15570.625, Time=0.54 sec\n",
      "\n",
      "Best model:  ARIMA(0,1,3)(0,0,0)[0]          \n",
      "Total fit time: 7.708 seconds\n",
      "ARIMA Parameters (from arima.py): (0, 1, 3)\n"
     ]
    }
   ],
   "source": [
    "# Step 2: Train ARIMA, forecast, evaluate, plot, and save, printing outputs\n",
    "# Split data implicitly handled by train_arima (default train_end='2024-12-31')\n",
    "arima_model, arima_params = train_arima(tesla_data)\n",
    "print(f\"ARIMA Parameters (from arima.py): {arima_params}\")"
   ]
  },
  {
   "cell_type": "code",
   "execution_count": 6,
   "metadata": {},
   "outputs": [
    {
     "ename": "ValueError",
     "evalue": "Error forecasting with ARIMA: 'ARIMA' object has no attribute 'get_forecast'",
     "output_type": "error",
     "traceback": [
      "\u001b[1;31m---------------------------------------------------------------------------\u001b[0m",
      "\u001b[1;31mAttributeError\u001b[0m                            Traceback (most recent call last)",
      "File \u001b[1;32mc:\\Users\\HP\\Documents\\Dagii\\week-11\\TimeSeries-Portfolio-Optimization\\notebooks\\..\\scripts\\arima.py:53\u001b[0m, in \u001b[0;36mforecast_arima\u001b[1;34m(model, steps)\u001b[0m\n\u001b[0;32m     51\u001b[0m \u001b[38;5;28;01mtry\u001b[39;00m:\n\u001b[0;32m     52\u001b[0m     \u001b[38;5;66;03m# Use .forecast() for statsmodels ARIMA (post-0.13.0), ensuring the model is fitted\u001b[39;00m\n\u001b[1;32m---> 53\u001b[0m     forecast \u001b[38;5;241m=\u001b[39m \u001b[43mmodel\u001b[49m\u001b[38;5;241;43m.\u001b[39;49m\u001b[43mget_forecast\u001b[49m(steps\u001b[38;5;241m=\u001b[39msteps)\u001b[38;5;241m.\u001b[39mpredicted_mean  \u001b[38;5;66;03m# Use get_forecast for predicted mean\u001b[39;00m\n\u001b[0;32m     54\u001b[0m     \u001b[38;5;28;01mreturn\u001b[39;00m forecast\n",
      "\u001b[1;31mAttributeError\u001b[0m: 'ARIMA' object has no attribute 'get_forecast'",
      "\nDuring handling of the above exception, another exception occurred:\n",
      "\u001b[1;31mValueError\u001b[0m                                Traceback (most recent call last)",
      "Cell \u001b[1;32mIn[6], line 3\u001b[0m\n\u001b[0;32m      1\u001b[0m \u001b[38;5;66;03m# Forecast for the test period (January 2025)\u001b[39;00m\n\u001b[0;32m      2\u001b[0m test_data \u001b[38;5;241m=\u001b[39m tesla_data[tesla_data\u001b[38;5;241m.\u001b[39mindex \u001b[38;5;241m>\u001b[39m\u001b[38;5;241m=\u001b[39m \u001b[38;5;124m'\u001b[39m\u001b[38;5;124m2025-01-01\u001b[39m\u001b[38;5;124m'\u001b[39m][\u001b[38;5;124m'\u001b[39m\u001b[38;5;124mClose\u001b[39m\u001b[38;5;124m'\u001b[39m]\n\u001b[1;32m----> 3\u001b[0m forecast \u001b[38;5;241m=\u001b[39m \u001b[43mforecast_arima\u001b[49m\u001b[43m(\u001b[49m\u001b[43marima_model\u001b[49m\u001b[43m,\u001b[49m\u001b[43m \u001b[49m\u001b[43msteps\u001b[49m\u001b[38;5;241;43m=\u001b[39;49m\u001b[38;5;28;43mlen\u001b[39;49m\u001b[43m(\u001b[49m\u001b[43mtest_data\u001b[49m\u001b[43m)\u001b[49m\u001b[43m)\u001b[49m\n\u001b[0;32m      4\u001b[0m \u001b[38;5;28mprint\u001b[39m(\u001b[38;5;124m\"\u001b[39m\u001b[38;5;124mARIMA Forecast Sample (from arima.py):\u001b[39m\u001b[38;5;124m\"\u001b[39m)\n\u001b[0;32m      5\u001b[0m \u001b[38;5;28mprint\u001b[39m(forecast[:\u001b[38;5;241m5\u001b[39m])  \u001b[38;5;66;03m# Print first 5 forecasted values\u001b[39;00m\n",
      "File \u001b[1;32mc:\\Users\\HP\\Documents\\Dagii\\week-11\\TimeSeries-Portfolio-Optimization\\notebooks\\..\\scripts\\arima.py:56\u001b[0m, in \u001b[0;36mforecast_arima\u001b[1;34m(model, steps)\u001b[0m\n\u001b[0;32m     54\u001b[0m     \u001b[38;5;28;01mreturn\u001b[39;00m forecast\n\u001b[0;32m     55\u001b[0m \u001b[38;5;28;01mexcept\u001b[39;00m \u001b[38;5;167;01mException\u001b[39;00m \u001b[38;5;28;01mas\u001b[39;00m e:\n\u001b[1;32m---> 56\u001b[0m     \u001b[38;5;28;01mraise\u001b[39;00m \u001b[38;5;167;01mValueError\u001b[39;00m(\u001b[38;5;124mf\u001b[39m\u001b[38;5;124m\"\u001b[39m\u001b[38;5;124mError forecasting with ARIMA: \u001b[39m\u001b[38;5;132;01m{\u001b[39;00m\u001b[38;5;28mstr\u001b[39m(e)\u001b[38;5;132;01m}\u001b[39;00m\u001b[38;5;124m\"\u001b[39m)\n",
      "\u001b[1;31mValueError\u001b[0m: Error forecasting with ARIMA: 'ARIMA' object has no attribute 'get_forecast'"
     ]
    }
   ],
   "source": [
    "# Forecast for the test period (January 2025)\n",
    "test_data = tesla_data[tesla_data.index >= '2025-01-01']['Close']\n",
    "forecast = forecast_arima(arima_model, steps=len(test_data))\n",
    "print(\"ARIMA Forecast Sample (from arima.py):\")\n",
    "print(forecast[:5])  # Print first 5 forecasted values"
   ]
  }
 ],
 "metadata": {
  "kernelspec": {
   "display_name": "week-11",
   "language": "python",
   "name": "python3"
  },
  "language_info": {
   "codemirror_mode": {
    "name": "ipython",
    "version": 3
   },
   "file_extension": ".py",
   "mimetype": "text/x-python",
   "name": "python",
   "nbconvert_exporter": "python",
   "pygments_lexer": "ipython3",
   "version": "3.11.9"
  }
 },
 "nbformat": 4,
 "nbformat_minor": 2
}
