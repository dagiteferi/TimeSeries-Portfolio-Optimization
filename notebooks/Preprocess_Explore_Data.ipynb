{
 "cells": [
  {
   "cell_type": "code",
   "execution_count": 1,
   "metadata": {},
   "outputs": [],
   "source": [
    "import sys\n",
    "import pandas as pd\n",
    "sys.path.append(\"..\") "
   ]
  },
  {
   "cell_type": "code",
   "execution_count": 13,
   "metadata": {},
   "outputs": [],
   "source": [
    "sys.path.append(\"..\")\n",
    "# Import the functions\n",
    "from scripts.data_cleaning import (\n",
    "    check_basic_statistics,\n",
    "    ensure_data_types,\n",
    "    check_missing_values,\n",
    "    handle_missing_values,\n",
    "    normalize_data\n",
    ")\n",
    "\n"
   ]
  },
  {
   "cell_type": "code",
   "execution_count": 2,
   "metadata": {},
   "outputs": [],
   "source": [
    "# Import the load_data function from src.data_loader\n",
    "from src.data_loader import load_data  "
   ]
  },
  {
   "cell_type": "code",
   "execution_count": 10,
   "metadata": {},
   "outputs": [
    {
     "name": "stderr",
     "output_type": "stream",
     "text": [
      "2025-02-27 12:30:00,493 - INFO - Loading data for BND...\n",
      "2025-02-27 12:30:00,521 - INFO - Successfully loaded data for BND from c:\\Users\\HP\\Documents\\Dagii\\week-11\\TimeSeries-Portfolio-Optimization\\data\\BND_data.csv.\n",
      "2025-02-27 12:30:00,522 - INFO - Loading data for SPY...\n",
      "2025-02-27 12:30:00,553 - INFO - Successfully loaded data for SPY from c:\\Users\\HP\\Documents\\Dagii\\week-11\\TimeSeries-Portfolio-Optimization\\data\\SPY_data.csv.\n",
      "2025-02-27 12:30:00,554 - INFO - Loading data for TSLA...\n",
      "2025-02-27 12:30:00,575 - INFO - Successfully loaded data for TSLA from c:\\Users\\HP\\Documents\\Dagii\\week-11\\TimeSeries-Portfolio-Optimization\\data\\TSLA_data.csv.\n"
     ]
    },
    {
     "name": "stdout",
     "output_type": "stream",
     "text": [
      "Number of columns in BND_data.csv: 6\n",
      "Number of columns in SPY_data.csv: 6\n",
      "Number of columns in TSLA_data.csv: 6\n"
     ]
    }
   ],
   "source": [
    "bnd = load_data(\"BND\")\n",
    "spy = load_data(\"SPY\")\n",
    "tesla = load_data(\"TSLA\")\n",
    "\n",
    "\n",
    "\n",
    "\n"
   ]
  },
  {
   "cell_type": "code",
   "execution_count": 11,
   "metadata": {},
   "outputs": [
    {
     "data": {
      "text/html": [
       "<div>\n",
       "<style scoped>\n",
       "    .dataframe tbody tr th:only-of-type {\n",
       "        vertical-align: middle;\n",
       "    }\n",
       "\n",
       "    .dataframe tbody tr th {\n",
       "        vertical-align: top;\n",
       "    }\n",
       "\n",
       "    .dataframe thead th {\n",
       "        text-align: right;\n",
       "    }\n",
       "</style>\n",
       "<table border=\"1\" class=\"dataframe\">\n",
       "  <thead>\n",
       "    <tr style=\"text-align: right;\">\n",
       "      <th></th>\n",
       "      <th>Price</th>\n",
       "      <th>Close</th>\n",
       "      <th>High</th>\n",
       "      <th>Low</th>\n",
       "      <th>Volume</th>\n",
       "    </tr>\n",
       "    <tr>\n",
       "      <th>2015-01-02</th>\n",
       "      <th></th>\n",
       "      <th></th>\n",
       "      <th></th>\n",
       "      <th></th>\n",
       "      <th></th>\n",
       "    </tr>\n",
       "  </thead>\n",
       "  <tbody>\n",
       "    <tr>\n",
       "      <th>2015-01-05</th>\n",
       "      <td>169.475952</td>\n",
       "      <td>171.702356</td>\n",
       "      <td>169.165099</td>\n",
       "      <td>171.534328</td>\n",
       "      <td>169632600</td>\n",
       "    </tr>\n",
       "    <tr>\n",
       "      <th>2015-01-06</th>\n",
       "      <td>167.879608</td>\n",
       "      <td>170.316050</td>\n",
       "      <td>167.073055</td>\n",
       "      <td>169.786749</td>\n",
       "      <td>209151400</td>\n",
       "    </tr>\n",
       "    <tr>\n",
       "      <th>2015-01-07</th>\n",
       "      <td>169.971649</td>\n",
       "      <td>170.316116</td>\n",
       "      <td>168.770234</td>\n",
       "      <td>169.223912</td>\n",
       "      <td>125346700</td>\n",
       "    </tr>\n",
       "    <tr>\n",
       "      <th>2015-01-08</th>\n",
       "      <td>172.987717</td>\n",
       "      <td>173.206165</td>\n",
       "      <td>171.383032</td>\n",
       "      <td>171.399826</td>\n",
       "      <td>147217800</td>\n",
       "    </tr>\n",
       "    <tr>\n",
       "      <th>2015-01-09</th>\n",
       "      <td>171.601501</td>\n",
       "      <td>173.424635</td>\n",
       "      <td>170.979783</td>\n",
       "      <td>173.407828</td>\n",
       "      <td>158567300</td>\n",
       "    </tr>\n",
       "  </tbody>\n",
       "</table>\n",
       "</div>"
      ],
      "text/plain": [
       "                 Price       Close        High         Low     Volume\n",
       "2015-01-02                                                           \n",
       "2015-01-05  169.475952  171.702356  169.165099  171.534328  169632600\n",
       "2015-01-06  167.879608  170.316050  167.073055  169.786749  209151400\n",
       "2015-01-07  169.971649  170.316116  168.770234  169.223912  125346700\n",
       "2015-01-08  172.987717  173.206165  171.383032  171.399826  147217800\n",
       "2015-01-09  171.601501  173.424635  170.979783  173.407828  158567300"
      ]
     },
     "execution_count": 11,
     "metadata": {},
     "output_type": "execute_result"
    }
   ],
   "source": [
    "\n",
    "spy.head()"
   ]
  },
  {
   "cell_type": "code",
   "execution_count": 15,
   "metadata": {},
   "outputs": [
    {
     "name": "stderr",
     "output_type": "stream",
     "text": [
      "2025-02-27 12:30:55,340 - INFO - Basic statistics for TSLA:\n",
      "2025-02-27 12:30:55,358 - INFO -              Price        Close         High          Low        Volume\n",
      "count  2534.000000  2534.000000  2534.000000  2534.000000  2.534000e+03\n",
      "mean    117.888946   120.516497   115.137325   117.918317  1.120468e+08\n",
      "std     116.513225   119.241096   113.703698   116.616621  7.388527e+07\n",
      "min       9.578000    10.331333     9.403333     9.488000  1.062000e+07\n",
      "25%      17.246000    17.530834    16.943500    17.269167  6.679792e+07\n",
      "50%      30.784333    32.640001    29.992001    31.440000  9.264390e+07\n",
      "75%     221.622501   226.718338   217.090828   222.661667  1.294490e+08\n",
      "max     479.859985   488.540009   457.510010   475.899994  9.140820e+08\n"
     ]
    },
    {
     "name": "stdout",
     "output_type": "stream",
     "text": [
      "             Price        Close         High          Low        Volume\n",
      "count  2534.000000  2534.000000  2534.000000  2534.000000  2.534000e+03\n",
      "mean    117.888946   120.516497   115.137325   117.918317  1.120468e+08\n",
      "std     116.513225   119.241096   113.703698   116.616621  7.388527e+07\n",
      "min       9.578000    10.331333     9.403333     9.488000  1.062000e+07\n",
      "25%      17.246000    17.530834    16.943500    17.269167  6.679792e+07\n",
      "50%      30.784333    32.640001    29.992001    31.440000  9.264390e+07\n",
      "75%     221.622501   226.718338   217.090828   222.661667  1.294490e+08\n",
      "max     479.859985   488.540009   457.510010   475.899994  9.140820e+08\n"
     ]
    }
   ],
   "source": [
    "# Step 1: Check basic statistics\n",
    "stats = check_basic_statistics(tesla, \"TSLA\")\n",
    "print(stats)"
   ]
  },
  {
   "cell_type": "code",
   "execution_count": 16,
   "metadata": {},
   "outputs": [
    {
     "name": "stderr",
     "output_type": "stream",
     "text": [
      "2025-02-27 12:32:13,641 - INFO - Data types before cleaning for TSLA:\n",
      "2025-02-27 12:32:13,643 - INFO - Price     float64\n",
      "Close     float64\n",
      "High      float64\n",
      "Low       float64\n",
      "Volume      int64\n",
      "dtype: object\n",
      "2025-02-27 12:32:13,647 - INFO - Data types after cleaning for TSLA:\n",
      "2025-02-27 12:32:13,649 - INFO - Price     float64\n",
      "Close     float64\n",
      "High      float64\n",
      "Low       float64\n",
      "Volume      int64\n",
      "dtype: object\n"
     ]
    }
   ],
   "source": [
    "# Step 2: Ensure appropriate data types\n",
    "tsla_data = ensure_data_types(tesla, \"TSLA\")"
   ]
  },
  {
   "cell_type": "code",
   "execution_count": 17,
   "metadata": {},
   "outputs": [
    {
     "name": "stderr",
     "output_type": "stream",
     "text": [
      "2025-02-27 12:32:21,631 - INFO - Missing values for TSLA:\n",
      "2025-02-27 12:32:21,636 - INFO - Price     0\n",
      "Close     0\n",
      "High      0\n",
      "Low       0\n",
      "Volume    0\n",
      "dtype: int64\n"
     ]
    },
    {
     "name": "stdout",
     "output_type": "stream",
     "text": [
      "Price     0\n",
      "Close     0\n",
      "High      0\n",
      "Low       0\n",
      "Volume    0\n",
      "dtype: int64\n"
     ]
    }
   ],
   "source": [
    "from scripts.data_cleaning import check_missing_values\n",
    "\n",
    "missing_values = check_missing_values(tsla_data, \"TSLA\")\n",
    "print(missing_values)"
   ]
  }
 ],
 "metadata": {
  "kernelspec": {
   "display_name": "week-11",
   "language": "python",
   "name": "python3"
  },
  "language_info": {
   "codemirror_mode": {
    "name": "ipython",
    "version": 3
   },
   "file_extension": ".py",
   "mimetype": "text/x-python",
   "name": "python",
   "nbconvert_exporter": "python",
   "pygments_lexer": "ipython3",
   "version": "3.11.9"
  }
 },
 "nbformat": 4,
 "nbformat_minor": 2
}
