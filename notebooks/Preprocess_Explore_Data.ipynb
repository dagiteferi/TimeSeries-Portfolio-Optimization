{
 "cells": [
  {
   "cell_type": "code",
   "execution_count": 1,
   "metadata": {},
   "outputs": [],
   "source": [
    "import sys\n",
    "import pandas as pd\n",
    "sys.path.append(\"..\") "
   ]
  },
  {
   "cell_type": "code",
   "execution_count": 2,
   "metadata": {},
   "outputs": [],
   "source": [
    "sys.path.append(\"..\")\n",
    "# Import the functions\n",
    "from scripts.data_cleaning import (\n",
    "    check_basic_statistics,\n",
    "    ensure_data_types,\n",
    "    check_missing_values,\n",
    "    handle_missing_values,\n",
    "    normalize_data\n",
    ")\n",
    "\n"
   ]
  },
  {
   "cell_type": "code",
   "execution_count": 3,
   "metadata": {},
   "outputs": [],
   "source": [
    "# Import the load_data function from src.data_loader\n",
    "from src.data_loader import load_data  "
   ]
  },
  {
   "cell_type": "code",
   "execution_count": 4,
   "metadata": {},
   "outputs": [
    {
     "name": "stdout",
     "output_type": "stream",
     "text": [
      "Number of columns in BND_data.csv: 6\n",
      "Number of columns in SPY_data.csv: 6\n",
      "Number of columns in TSLA_data.csv: 6\n"
     ]
    }
   ],
   "source": [
    "bnd = load_data(\"BND\")\n",
    "spy = load_data(\"SPY\")\n",
    "tesla = load_data(\"TSLA\")\n",
    "\n",
    "\n",
    "\n",
    "\n"
   ]
  },
  {
   "cell_type": "code",
   "execution_count": 5,
   "metadata": {},
   "outputs": [
    {
     "data": {
      "text/html": [
       "<div>\n",
       "<style scoped>\n",
       "    .dataframe tbody tr th:only-of-type {\n",
       "        vertical-align: middle;\n",
       "    }\n",
       "\n",
       "    .dataframe tbody tr th {\n",
       "        vertical-align: top;\n",
       "    }\n",
       "\n",
       "    .dataframe thead th {\n",
       "        text-align: right;\n",
       "    }\n",
       "</style>\n",
       "<table border=\"1\" class=\"dataframe\">\n",
       "  <thead>\n",
       "    <tr style=\"text-align: right;\">\n",
       "      <th></th>\n",
       "      <th>Date</th>\n",
       "      <th>Price</th>\n",
       "      <th>Close</th>\n",
       "      <th>High</th>\n",
       "      <th>Low</th>\n",
       "      <th>Volume</th>\n",
       "    </tr>\n",
       "  </thead>\n",
       "  <tbody>\n",
       "    <tr>\n",
       "      <th>0</th>\n",
       "      <td>2015-01-05</td>\n",
       "      <td>14.006000</td>\n",
       "      <td>14.433333</td>\n",
       "      <td>13.810667</td>\n",
       "      <td>14.303333</td>\n",
       "      <td>80527500</td>\n",
       "    </tr>\n",
       "    <tr>\n",
       "      <th>1</th>\n",
       "      <td>2015-01-06</td>\n",
       "      <td>14.085333</td>\n",
       "      <td>14.280000</td>\n",
       "      <td>13.614000</td>\n",
       "      <td>14.004000</td>\n",
       "      <td>93928500</td>\n",
       "    </tr>\n",
       "    <tr>\n",
       "      <th>2</th>\n",
       "      <td>2015-01-07</td>\n",
       "      <td>14.063333</td>\n",
       "      <td>14.318667</td>\n",
       "      <td>13.985333</td>\n",
       "      <td>14.223333</td>\n",
       "      <td>44526000</td>\n",
       "    </tr>\n",
       "    <tr>\n",
       "      <th>3</th>\n",
       "      <td>2015-01-08</td>\n",
       "      <td>14.041333</td>\n",
       "      <td>14.253333</td>\n",
       "      <td>14.000667</td>\n",
       "      <td>14.187333</td>\n",
       "      <td>51637500</td>\n",
       "    </tr>\n",
       "    <tr>\n",
       "      <th>4</th>\n",
       "      <td>2015-01-09</td>\n",
       "      <td>13.777333</td>\n",
       "      <td>13.998667</td>\n",
       "      <td>13.664000</td>\n",
       "      <td>13.928000</td>\n",
       "      <td>70024500</td>\n",
       "    </tr>\n",
       "  </tbody>\n",
       "</table>\n",
       "</div>"
      ],
      "text/plain": [
       "        Date      Price      Close       High        Low    Volume\n",
       "0 2015-01-05  14.006000  14.433333  13.810667  14.303333  80527500\n",
       "1 2015-01-06  14.085333  14.280000  13.614000  14.004000  93928500\n",
       "2 2015-01-07  14.063333  14.318667  13.985333  14.223333  44526000\n",
       "3 2015-01-08  14.041333  14.253333  14.000667  14.187333  51637500\n",
       "4 2015-01-09  13.777333  13.998667  13.664000  13.928000  70024500"
      ]
     },
     "execution_count": 5,
     "metadata": {},
     "output_type": "execute_result"
    }
   ],
   "source": [
    "\n",
    "tesla.head()"
   ]
  },
  {
   "cell_type": "code",
   "execution_count": 6,
   "metadata": {},
   "outputs": [
    {
     "name": "stdout",
     "output_type": "stream",
     "text": [
      "-----------------basic statistics of tesla--------------\n",
      "                                Date        Price        Close         High  \\\n",
      "count                           2534  2534.000000  2534.000000  2534.000000   \n",
      "mean   2020-01-15 07:57:20.883977984   117.888946   120.516497   115.137325   \n",
      "min              2015-01-05 00:00:00     9.578000    10.331333     9.403333   \n",
      "25%              2017-07-11 06:00:00    17.246000    17.530834    16.943500   \n",
      "50%              2020-01-15 12:00:00    30.784333    32.640001    29.992001   \n",
      "75%              2022-07-21 18:00:00   221.622501   226.718338   217.090828   \n",
      "max              2025-01-30 00:00:00   479.859985   488.540009   457.510010   \n",
      "std                              NaN   116.513225   119.241096   113.703698   \n",
      "\n",
      "               Low        Volume  \n",
      "count  2534.000000  2.534000e+03  \n",
      "mean    117.918317  1.120468e+08  \n",
      "min       9.488000  1.062000e+07  \n",
      "25%      17.269167  6.679792e+07  \n",
      "50%      31.440000  9.264390e+07  \n",
      "75%     222.661667  1.294490e+08  \n",
      "max     475.899994  9.140820e+08  \n",
      "std     116.616621  7.388527e+07  \n",
      "-----------------basic statistics of BND--------------\n",
      "                                Date        Price        Close         High  \\\n",
      "count                           2534  2534.000000  2534.000000  2534.000000   \n",
      "mean   2020-01-15 07:57:20.883977984    69.292102    69.393940    69.188691   \n",
      "min              2015-01-05 00:00:00    61.860874    61.937357    61.822635   \n",
      "25%              2017-07-11 06:00:00    65.573730    65.632010    65.483971   \n",
      "50%              2020-01-15 12:00:00    68.329895    68.459567    68.170516   \n",
      "75%              2022-07-21 18:00:00    72.880764    72.946475    72.730177   \n",
      "max              2025-01-30 00:00:00    78.823273    78.920188    78.788036   \n",
      "std                              NaN     4.791233     4.799461     4.781184   \n",
      "\n",
      "               Low        Volume  \n",
      "count  2534.000000  2.534000e+03  \n",
      "mean     69.295942  4.233995e+06  \n",
      "min      61.891469  0.000000e+00  \n",
      "25%      65.558048  2.056000e+06  \n",
      "50%      68.311507  3.805900e+06  \n",
      "75%      72.846293  5.626950e+06  \n",
      "max      78.884958  3.193720e+07  \n",
      "std       4.792191  2.796348e+06  \n",
      "-----------------basic statistics of SPY--------------\n",
      "                                Date        Price        Close         High  \\\n",
      "count                           2534  2534.000000  2534.000000  2534.000000   \n",
      "mean   2020-01-15 07:57:20.883977984   316.124021   317.782453   314.214169   \n",
      "min              2015-01-05 00:00:00   156.800842   157.864136   154.676868   \n",
      "25%              2017-07-11 06:00:00   214.869541   215.867530   214.283792   \n",
      "50%              2020-01-15 12:00:00   277.234024   278.362897   276.101228   \n",
      "75%              2022-07-21 18:00:00   405.963654   409.202180   402.906834   \n",
      "max              2025-01-30 00:00:00   609.750000   610.780029   606.799988   \n",
      "std                              NaN   117.915718   118.475280   117.258801   \n",
      "\n",
      "               Low        Volume  \n",
      "count  2534.000000  2.534000e+03  \n",
      "mean    316.077671  8.713300e+07  \n",
      "min     156.354943  2.027000e+07  \n",
      "25%     215.113932  5.861922e+07  \n",
      "50%     277.271237  7.642180e+07  \n",
      "75%     406.109768  1.017314e+08  \n",
      "max     609.809998  5.072443e+08  \n",
      "std     117.910828  4.487621e+07  \n"
     ]
    }
   ],
   "source": [
    "# Step 1: Check basic statistics\n",
    "stats = check_basic_statistics(tesla, \"TSLA\")\n",
    "print(\"-----------------basic statistics of tesla--------------\")\n",
    "print(stats)\n",
    "\n",
    "# Step 1: Check basic statistics of BND\n",
    "stats = check_basic_statistics(bnd, \"BND\")\n",
    "print(\"-----------------basic statistics of BND--------------\")\n",
    "print(stats)\n",
    "\n",
    "\n",
    " #Check basic statistics of SPY \n",
    "stats = check_basic_statistics(spy, \"SPY\")\n",
    "print(\"-----------------basic statistics of SPY--------------\")\n",
    "print(stats)"
   ]
  },
  {
   "cell_type": "code",
   "execution_count": 7,
   "metadata": {},
   "outputs": [
    {
     "ename": "NameError",
     "evalue": "name 'tsla_data' is not defined",
     "output_type": "error",
     "traceback": [
      "\u001b[1;31m---------------------------------------------------------------------------\u001b[0m",
      "\u001b[1;31mNameError\u001b[0m                                 Traceback (most recent call last)",
      "Cell \u001b[1;32mIn[7], line 3\u001b[0m\n\u001b[0;32m      1\u001b[0m \u001b[38;5;28;01mfrom\u001b[39;00m\u001b[38;5;250m \u001b[39m\u001b[38;5;21;01mscripts\u001b[39;00m\u001b[38;5;21;01m.\u001b[39;00m\u001b[38;5;21;01mdata_cleaning\u001b[39;00m\u001b[38;5;250m \u001b[39m\u001b[38;5;28;01mimport\u001b[39;00m check_missing_values\n\u001b[1;32m----> 3\u001b[0m missing_values \u001b[38;5;241m=\u001b[39m check_missing_values(\u001b[43mtsla_data\u001b[49m, \u001b[38;5;124m\"\u001b[39m\u001b[38;5;124mTSLA\u001b[39m\u001b[38;5;124m\"\u001b[39m)\n\u001b[0;32m      4\u001b[0m \u001b[38;5;28mprint\u001b[39m(missing_values)\n",
      "\u001b[1;31mNameError\u001b[0m: name 'tsla_data' is not defined"
     ]
    }
   ],
   "source": [
    "from scripts.data_cleaning import check_missing_values\n",
    "\n",
    "missing_values = check_missing_values(tsla_data, \"TSLA\")\n",
    "print(missing_values)"
   ]
  }
 ],
 "metadata": {
  "kernelspec": {
   "display_name": "week-11",
   "language": "python",
   "name": "python3"
  },
  "language_info": {
   "codemirror_mode": {
    "name": "ipython",
    "version": 3
   },
   "file_extension": ".py",
   "mimetype": "text/x-python",
   "name": "python",
   "nbconvert_exporter": "python",
   "pygments_lexer": "ipython3",
   "version": "3.11.9"
  }
 },
 "nbformat": 4,
 "nbformat_minor": 2
}
