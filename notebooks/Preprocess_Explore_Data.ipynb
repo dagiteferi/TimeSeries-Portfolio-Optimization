{
 "cells": [
  {
   "cell_type": "code",
   "execution_count": 1,
   "metadata": {},
   "outputs": [],
   "source": [
    "import sys\n",
    "import pandas as pd\n",
    "sys.path.append(\"..\") "
   ]
  },
  {
   "cell_type": "code",
   "execution_count": 6,
   "metadata": {},
   "outputs": [],
   "source": [
    "sys.path.append(\"..\")\n",
    "# Import the functions\n",
    "from scripts.data_cleaning import (\n",
    "    check_basic_statistics,\n",
    "    ensure_data_types,\n",
    "    check_missing_values,\n",
    "    handle_missing_values,\n",
    "    normalize_data\n",
    ")\n",
    "\n"
   ]
  },
  {
   "cell_type": "code",
   "execution_count": 2,
   "metadata": {},
   "outputs": [],
   "source": [
    "# Import the load_data function from src.data_loader\n",
    "from src.data_loader import load_data  "
   ]
  },
  {
   "cell_type": "code",
   "execution_count": 3,
   "metadata": {},
   "outputs": [
    {
     "name": "stderr",
     "output_type": "stream",
     "text": [
      "2025-02-27 12:38:06,481 - INFO - Loading data for BND...\n",
      "2025-02-27 12:38:06,509 - INFO - Successfully loaded data for BND from c:\\Users\\HP\\Documents\\Dagii\\week-11\\TimeSeries-Portfolio-Optimization\\data\\BND_data.csv.\n",
      "2025-02-27 12:38:06,511 - INFO - Loading data for SPY...\n",
      "2025-02-27 12:38:06,536 - INFO - Successfully loaded data for SPY from c:\\Users\\HP\\Documents\\Dagii\\week-11\\TimeSeries-Portfolio-Optimization\\data\\SPY_data.csv.\n",
      "2025-02-27 12:38:06,538 - INFO - Loading data for TSLA...\n",
      "2025-02-27 12:38:06,562 - INFO - Successfully loaded data for TSLA from c:\\Users\\HP\\Documents\\Dagii\\week-11\\TimeSeries-Portfolio-Optimization\\data\\TSLA_data.csv.\n"
     ]
    },
    {
     "name": "stdout",
     "output_type": "stream",
     "text": [
      "Number of columns in BND_data.csv: 6\n",
      "Number of columns in SPY_data.csv: 6\n",
      "Number of columns in TSLA_data.csv: 6\n"
     ]
    }
   ],
   "source": [
    "bnd = load_data(\"BND\")\n",
    "spy = load_data(\"SPY\")\n",
    "tesla = load_data(\"TSLA\")\n",
    "\n",
    "\n",
    "\n",
    "\n"
   ]
  },
  {
   "cell_type": "code",
   "execution_count": 4,
   "metadata": {},
   "outputs": [
    {
     "data": {
      "text/html": [
       "<div>\n",
       "<style scoped>\n",
       "    .dataframe tbody tr th:only-of-type {\n",
       "        vertical-align: middle;\n",
       "    }\n",
       "\n",
       "    .dataframe tbody tr th {\n",
       "        vertical-align: top;\n",
       "    }\n",
       "\n",
       "    .dataframe thead th {\n",
       "        text-align: right;\n",
       "    }\n",
       "</style>\n",
       "<table border=\"1\" class=\"dataframe\">\n",
       "  <thead>\n",
       "    <tr style=\"text-align: right;\">\n",
       "      <th></th>\n",
       "      <th>Date</th>\n",
       "      <th>Price</th>\n",
       "      <th>Close</th>\n",
       "      <th>High</th>\n",
       "      <th>Low</th>\n",
       "      <th>Volume</th>\n",
       "    </tr>\n",
       "  </thead>\n",
       "  <tbody>\n",
       "    <tr>\n",
       "      <th>0</th>\n",
       "      <td>2015-01-05</td>\n",
       "      <td>14.006000</td>\n",
       "      <td>14.433333</td>\n",
       "      <td>13.810667</td>\n",
       "      <td>14.303333</td>\n",
       "      <td>80527500</td>\n",
       "    </tr>\n",
       "    <tr>\n",
       "      <th>1</th>\n",
       "      <td>2015-01-06</td>\n",
       "      <td>14.085333</td>\n",
       "      <td>14.280000</td>\n",
       "      <td>13.614000</td>\n",
       "      <td>14.004000</td>\n",
       "      <td>93928500</td>\n",
       "    </tr>\n",
       "    <tr>\n",
       "      <th>2</th>\n",
       "      <td>2015-01-07</td>\n",
       "      <td>14.063333</td>\n",
       "      <td>14.318667</td>\n",
       "      <td>13.985333</td>\n",
       "      <td>14.223333</td>\n",
       "      <td>44526000</td>\n",
       "    </tr>\n",
       "    <tr>\n",
       "      <th>3</th>\n",
       "      <td>2015-01-08</td>\n",
       "      <td>14.041333</td>\n",
       "      <td>14.253333</td>\n",
       "      <td>14.000667</td>\n",
       "      <td>14.187333</td>\n",
       "      <td>51637500</td>\n",
       "    </tr>\n",
       "    <tr>\n",
       "      <th>4</th>\n",
       "      <td>2015-01-09</td>\n",
       "      <td>13.777333</td>\n",
       "      <td>13.998667</td>\n",
       "      <td>13.664000</td>\n",
       "      <td>13.928000</td>\n",
       "      <td>70024500</td>\n",
       "    </tr>\n",
       "  </tbody>\n",
       "</table>\n",
       "</div>"
      ],
      "text/plain": [
       "        Date      Price      Close       High        Low    Volume\n",
       "0 2015-01-05  14.006000  14.433333  13.810667  14.303333  80527500\n",
       "1 2015-01-06  14.085333  14.280000  13.614000  14.004000  93928500\n",
       "2 2015-01-07  14.063333  14.318667  13.985333  14.223333  44526000\n",
       "3 2015-01-08  14.041333  14.253333  14.000667  14.187333  51637500\n",
       "4 2015-01-09  13.777333  13.998667  13.664000  13.928000  70024500"
      ]
     },
     "execution_count": 4,
     "metadata": {},
     "output_type": "execute_result"
    }
   ],
   "source": [
    "\n",
    "tesla.head()"
   ]
  },
  {
   "cell_type": "code",
   "execution_count": 7,
   "metadata": {},
   "outputs": [
    {
     "name": "stderr",
     "output_type": "stream",
     "text": [
      "2025-02-27 12:39:40,718 - INFO - Basic statistics for TSLA:\n",
      "2025-02-27 12:39:40,746 - INFO -                                 Date        Price        Close         High  \\\n",
      "count                           2534  2534.000000  2534.000000  2534.000000   \n",
      "mean   2020-01-15 07:57:20.883977984   117.888946   120.516497   115.137325   \n",
      "min              2015-01-05 00:00:00     9.578000    10.331333     9.403333   \n",
      "25%              2017-07-11 06:00:00    17.246000    17.530834    16.943500   \n",
      "50%              2020-01-15 12:00:00    30.784333    32.640001    29.992001   \n",
      "75%              2022-07-21 18:00:00   221.622501   226.718338   217.090828   \n",
      "max              2025-01-30 00:00:00   479.859985   488.540009   457.510010   \n",
      "std                              NaN   116.513225   119.241096   113.703698   \n",
      "\n",
      "               Low        Volume  \n",
      "count  2534.000000  2.534000e+03  \n",
      "mean    117.918317  1.120468e+08  \n",
      "min       9.488000  1.062000e+07  \n",
      "25%      17.269167  6.679792e+07  \n",
      "50%      31.440000  9.264390e+07  \n",
      "75%     222.661667  1.294490e+08  \n",
      "max     475.899994  9.140820e+08  \n",
      "std     116.616621  7.388527e+07  \n"
     ]
    },
    {
     "name": "stdout",
     "output_type": "stream",
     "text": [
      "                                Date        Price        Close         High  \\\n",
      "count                           2534  2534.000000  2534.000000  2534.000000   \n",
      "mean   2020-01-15 07:57:20.883977984   117.888946   120.516497   115.137325   \n",
      "min              2015-01-05 00:00:00     9.578000    10.331333     9.403333   \n",
      "25%              2017-07-11 06:00:00    17.246000    17.530834    16.943500   \n",
      "50%              2020-01-15 12:00:00    30.784333    32.640001    29.992001   \n",
      "75%              2022-07-21 18:00:00   221.622501   226.718338   217.090828   \n",
      "max              2025-01-30 00:00:00   479.859985   488.540009   457.510010   \n",
      "std                              NaN   116.513225   119.241096   113.703698   \n",
      "\n",
      "               Low        Volume  \n",
      "count  2534.000000  2.534000e+03  \n",
      "mean    117.918317  1.120468e+08  \n",
      "min       9.488000  1.062000e+07  \n",
      "25%      17.269167  6.679792e+07  \n",
      "50%      31.440000  9.264390e+07  \n",
      "75%     222.661667  1.294490e+08  \n",
      "max     475.899994  9.140820e+08  \n",
      "std     116.616621  7.388527e+07  \n"
     ]
    }
   ],
   "source": [
    "# Step 1: Check basic statistics\n",
    "stats = check_basic_statistics(tesla, \"TSLA\")\n",
    "print(stats)"
   ]
  },
  {
   "cell_type": "code",
   "execution_count": 16,
   "metadata": {},
   "outputs": [
    {
     "name": "stderr",
     "output_type": "stream",
     "text": [
      "2025-02-27 12:32:13,641 - INFO - Data types before cleaning for TSLA:\n",
      "2025-02-27 12:32:13,643 - INFO - Price     float64\n",
      "Close     float64\n",
      "High      float64\n",
      "Low       float64\n",
      "Volume      int64\n",
      "dtype: object\n",
      "2025-02-27 12:32:13,647 - INFO - Data types after cleaning for TSLA:\n",
      "2025-02-27 12:32:13,649 - INFO - Price     float64\n",
      "Close     float64\n",
      "High      float64\n",
      "Low       float64\n",
      "Volume      int64\n",
      "dtype: object\n"
     ]
    }
   ],
   "source": [
    "# Step 2: Ensure appropriate data types\n",
    "tsla_data = ensure_data_types(tesla, \"TSLA\")"
   ]
  },
  {
   "cell_type": "code",
   "execution_count": 17,
   "metadata": {},
   "outputs": [
    {
     "name": "stderr",
     "output_type": "stream",
     "text": [
      "2025-02-27 12:32:21,631 - INFO - Missing values for TSLA:\n",
      "2025-02-27 12:32:21,636 - INFO - Price     0\n",
      "Close     0\n",
      "High      0\n",
      "Low       0\n",
      "Volume    0\n",
      "dtype: int64\n"
     ]
    },
    {
     "name": "stdout",
     "output_type": "stream",
     "text": [
      "Price     0\n",
      "Close     0\n",
      "High      0\n",
      "Low       0\n",
      "Volume    0\n",
      "dtype: int64\n"
     ]
    }
   ],
   "source": [
    "from scripts.data_cleaning import check_missing_values\n",
    "\n",
    "missing_values = check_missing_values(tsla_data, \"TSLA\")\n",
    "print(missing_values)"
   ]
  }
 ],
 "metadata": {
  "kernelspec": {
   "display_name": "week-11",
   "language": "python",
   "name": "python3"
  },
  "language_info": {
   "codemirror_mode": {
    "name": "ipython",
    "version": 3
   },
   "file_extension": ".py",
   "mimetype": "text/x-python",
   "name": "python",
   "nbconvert_exporter": "python",
   "pygments_lexer": "ipython3",
   "version": "3.11.9"
  }
 },
 "nbformat": 4,
 "nbformat_minor": 2
}
