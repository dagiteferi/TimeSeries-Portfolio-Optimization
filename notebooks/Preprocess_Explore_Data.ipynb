{
 "cells": [
  {
   "cell_type": "code",
   "execution_count": 5,
   "metadata": {},
   "outputs": [],
   "source": [
    "import sys\n",
    "import pandas as pd\n",
    "sys.path.append(\"..\")  # Add the src folder to the Python path"
   ]
  },
  {
   "cell_type": "code",
   "execution_count": 7,
   "metadata": {},
   "outputs": [
    {
     "name": "stdout",
     "output_type": "stream",
     "text": [
      "2025-02-27 10:36:11,663 - INFO - Loading data for TSLA...\n",
      "2025-02-27 10:36:11,674 - ERROR - Error loading data for TSLA: 'Date' is not in list\n",
      "2025-02-27 10:36:11,676 - INFO - Loading data for BND...\n",
      "2025-02-27 10:36:11,709 - ERROR - Error loading data for BND: 'Date' is not in list\n",
      "2025-02-27 10:36:11,710 - INFO - Loading data for SPY...\n",
      "2025-02-27 10:36:11,746 - ERROR - Error loading data for SPY: 'Date' is not in list\n"
     ]
    }
   ],
   "source": [
    "# Import the data_loader module\n",
    "from src.data_loader import load_data\n",
    "\n",
    "# Load data for TSLA, BND, and SPY\n",
    "tsla_data = load_data(\"TSLA\")\n",
    "bnd_data = load_data(\"BND\")\n",
    "spy_data = load_data(\"SPY\")\n"
   ]
  }
 ],
 "metadata": {
  "kernelspec": {
   "display_name": "week-11",
   "language": "python",
   "name": "python3"
  },
  "language_info": {
   "codemirror_mode": {
    "name": "ipython",
    "version": 3
   },
   "file_extension": ".py",
   "mimetype": "text/x-python",
   "name": "python",
   "nbconvert_exporter": "python",
   "pygments_lexer": "ipython3",
   "version": "3.11.9"
  }
 },
 "nbformat": 4,
 "nbformat_minor": 2
}
